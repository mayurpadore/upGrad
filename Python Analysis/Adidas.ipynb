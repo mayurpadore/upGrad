{
  "nbformat": 4,
  "nbformat_minor": 0,
  "metadata": {
    "colab": {
      "provenance": [],
      "include_colab_link": true
    },
    "kernelspec": {
      "name": "python3",
      "display_name": "Python 3"
    },
    "language_info": {
      "name": "python"
    }
  },
  "cells": [
    {
      "cell_type": "markdown",
      "metadata": {
        "id": "view-in-github",
        "colab_type": "text"
      },
      "source": [
        "<a href=\"https://colab.research.google.com/github/mayurpadore/upGrad/blob/main/Python%20Analysis/Adidas.ipynb\" target=\"_parent\"><img src=\"https://colab.research.google.com/assets/colab-badge.svg\" alt=\"Open In Colab\"/></a>"
      ]
    },
    {
      "cell_type": "code",
      "execution_count": null,
      "metadata": {
        "id": "2mw7tiQ7l0Qm"
      },
      "outputs": [],
      "source": [
        "import pandas as pd\n",
        "import numpy as np"
      ]
    },
    {
      "source": [
        "df = pd.read_csv('/content/adidas (2).csv')"
      ],
      "cell_type": "code",
      "metadata": {
        "id": "mEXQmkT1mTD4"
      },
      "execution_count": null,
      "outputs": []
    },
    {
      "source": [
        "# Shape of the dataset\n",
        "print(\"Shape of the dataset:\", df.shape)\n",
        "\n",
        "# Information about the dataset\n",
        "print(\"\\nInformation about the dataset:\")\n",
        "df.info()\n",
        "\n",
        "# Descriptive statistics\n",
        "print(\"\\nDescriptive statistics:\")\n",
        "print(df.describe())"
      ],
      "cell_type": "code",
      "metadata": {
        "colab": {
          "base_uri": "https://localhost:8080/"
        },
        "id": "REvL8oLkmWd9",
        "outputId": "c61b21ab-ab6f-46ad-a03f-542a94c077db"
      },
      "execution_count": null,
      "outputs": [
        {
          "output_type": "stream",
          "name": "stdout",
          "text": [
            "Shape of the dataset: (9648, 14)\n",
            "\n",
            "Information about the dataset:\n",
            "<class 'pandas.core.frame.DataFrame'>\n",
            "RangeIndex: 9648 entries, 0 to 9647\n",
            "Data columns (total 14 columns):\n",
            " #   Column            Non-Null Count  Dtype  \n",
            "---  ------            --------------  -----  \n",
            " 0   Unnamed: 0        9648 non-null   int64  \n",
            " 1   Retailer          9648 non-null   object \n",
            " 2   Retailer ID       9648 non-null   int64  \n",
            " 3   Invoice Date      9648 non-null   object \n",
            " 4   Region            9648 non-null   object \n",
            " 5   State             9648 non-null   object \n",
            " 6   City              9648 non-null   object \n",
            " 7   Product           9648 non-null   object \n",
            " 8   Price per Unit    9648 non-null   float64\n",
            " 9   Units Sold        9648 non-null   int64  \n",
            " 10  Total Sales       9648 non-null   float64\n",
            " 11  Operating Profit  9648 non-null   float64\n",
            " 12  Operating Margin  9648 non-null   float64\n",
            " 13  Sales Method      9648 non-null   object \n",
            "dtypes: float64(4), int64(3), object(7)\n",
            "memory usage: 1.0+ MB\n",
            "\n",
            "Descriptive statistics:\n",
            "        Unnamed: 0   Retailer ID  Price per Unit   Units Sold    Total Sales  \\\n",
            "count  9648.000000  9.648000e+03     9648.000000  9648.000000    9648.000000   \n",
            "mean   4823.500000  1.173850e+06       45.216625   256.930037   93273.437500   \n",
            "std    2785.282032  2.636038e+04       14.705397   214.252030  141916.016727   \n",
            "min       0.000000  1.128299e+06        7.000000     0.000000       0.000000   \n",
            "25%    2411.750000  1.185732e+06       35.000000   106.000000    4254.500000   \n",
            "50%    4823.500000  1.185732e+06       45.000000   176.000000    9576.000000   \n",
            "75%    7235.250000  1.185732e+06       55.000000   350.000000  150000.000000   \n",
            "max    9647.000000  1.197831e+06      110.000000  1275.000000  825000.000000   \n",
            "\n",
            "       Operating Profit  Operating Margin  \n",
            "count       9648.000000       9648.000000  \n",
            "mean       34425.244761          0.422991  \n",
            "std        54193.113713          0.097197  \n",
            "min            0.000000          0.100000  \n",
            "25%         1921.752500          0.350000  \n",
            "50%         4371.420000          0.410000  \n",
            "75%        52062.500000          0.490000  \n",
            "max       390000.000000          0.800000  \n"
          ]
        }
      ]
    },
    {
      "cell_type": "code",
      "source": [
        "print(df.columns)  # This will print a list of all column names\n"
      ],
      "metadata": {
        "colab": {
          "base_uri": "https://localhost:8080/"
        },
        "id": "CYo2v9jImgc6",
        "outputId": "e6e00b7c-e65d-458f-ea35-6691753fc3d0"
      },
      "execution_count": null,
      "outputs": [
        {
          "output_type": "stream",
          "name": "stdout",
          "text": [
            "Index(['Unnamed: 0', 'Retailer', 'Retailer ID', 'Invoice Date', 'Region',\n",
            "       'State', 'City', 'Product', 'Price per Unit', 'Units Sold',\n",
            "       'Total Sales', 'Operating Profit', 'Operating Margin', 'Sales Method'],\n",
            "      dtype='object')\n"
          ]
        }
      ]
    },
    {
      "cell_type": "code",
      "source": [
        "# Data Cleaning and Preprocessing (if needed)\n",
        "# Assuming 'InvoiceDate' is the correct column name after verifying with df.columns\n",
        "df['Invoice Date'] = pd.to_datetime(df['Invoice Date'], errors='coerce')  # Handle potential errors during conversion\n",
        "df.columns = df.columns.str.strip()  # Remove leading/trailing spaces from column names\n"
      ],
      "metadata": {
        "id": "lh4w5P0qmyTY"
      },
      "execution_count": null,
      "outputs": []
    },
    {
      "cell_type": "code",
      "source": [
        "# 1. Top Months with Maximum Sales\n",
        "df['Month'] = df['Invoice Date'].dt.month_name()\n",
        "monthly_sales = df.groupby('Month')['Total Sales'].sum()  # Changed to 'Total Sales'\n",
        "top_months = monthly_sales.sort_values(ascending=False).head(5)\n",
        "print(\"\\nTop months with maximum sales:\")\n",
        "print(top_months)"
      ],
      "metadata": {
        "colab": {
          "base_uri": "https://localhost:8080/"
        },
        "id": "MmaeefZ3m1rA",
        "outputId": "dad2a68e-a9b8-4c06-81f8-29ff8fe2094e"
      },
      "execution_count": null,
      "outputs": [
        {
          "output_type": "stream",
          "name": "stdout",
          "text": [
            "\n",
            "Top months with maximum sales:\n",
            "Month\n",
            "July         95480694.0\n",
            "August       92166201.0\n",
            "December     85841957.0\n",
            "May          80507695.0\n",
            "September    77661459.0\n",
            "Name: Total Sales, dtype: float64\n"
          ]
        }
      ]
    },
    {
      "cell_type": "code",
      "source": [
        "# 2. Sales on Weekdays vs. Weekends\n",
        "df['DayOfWeek'] = df['Invoice Date'].dt.day_name()\n",
        "df['IsWeekend'] = df['DayOfWeek'].apply(lambda x: 1 if x in ['Saturday', 'Sunday'] else 0)\n",
        "weekday_sales = df[df['IsWeekend'] == 0]['Total Sales'].sum()  # Changed to 'Total Sales'\n",
        "weekend_sales = df[df['IsWeekend'] == 1]['Total Sales'].sum()  # Changed to 'Total Sales'\n",
        "print(\"\\nSales on Weekdays:\", weekday_sales)\n",
        "print(\"Sales on Weekends:\", weekend_sales)\n",
        "if weekday_sales > weekend_sales:\n",
        "    print(\"Sales are generally higher on weekdays.\")\n",
        "else:\n",
        "    print(\"Sales are generally higher on weekends.\")\n"
      ],
      "metadata": {
        "colab": {
          "base_uri": "https://localhost:8080/"
        },
        "id": "8eEcUwrKnDEd",
        "outputId": "fc26d073-4900-415b-d20b-712d101c2481"
      },
      "execution_count": null,
      "outputs": [
        {
          "output_type": "stream",
          "name": "stdout",
          "text": [
            "\n",
            "Sales on Weekdays: 661954158.0\n",
            "Sales on Weekends: 237947967.0\n",
            "Sales are generally higher on weekdays.\n"
          ]
        }
      ]
    },
    {
      "cell_type": "code",
      "source": [
        "# 3. Top Selling and Most Profitable Products\n",
        "product_sales = df.groupby('Product')['Total Sales'].sum().sort_values(ascending=False)  # Changed to 'Total Sales'\n",
        "top_selling_products = product_sales.head(5)\n",
        "print(\"\\nTop selling products:\")\n",
        "print(top_selling_products)\n",
        "\n",
        "product_profit = df.groupby('Product')['Operating Profit'].sum().sort_values(ascending=False)  # Changed to 'Operating Profit'\n",
        "most_profitable_products = product_profit.head(5)\n",
        "print(\"\\nMost profitable products:\")\n",
        "print(most_profitable_products)\n"
      ],
      "metadata": {
        "colab": {
          "base_uri": "https://localhost:8080/"
        },
        "id": "BD_GWxHsnG4c",
        "outputId": "9823bbce-ce14-406a-ac69-c0d4587da171"
      },
      "execution_count": null,
      "outputs": [
        {
          "output_type": "stream",
          "name": "stdout",
          "text": [
            "\n",
            "Top selling products:\n",
            "Product\n",
            "Men's Street Footwear      208826244.0\n",
            "Women's Apparel            179038860.0\n",
            "Men's Athletic Footwear    153673680.0\n",
            "Women's Street Footwear    128002813.0\n",
            "Men's Apparel              123728632.0\n",
            "Name: Total Sales, dtype: float64\n",
            "\n",
            "Most profitable products:\n",
            "Product\n",
            "Men's Street Footwear      82802260.62\n",
            "Women's Apparel            68650970.56\n",
            "Men's Athletic Footwear    51846888.19\n",
            "Women's Street Footwear    45095826.81\n",
            "Men's Apparel              44763030.33\n",
            "Name: Operating Profit, dtype: float64\n"
          ]
        }
      ]
    },
    {
      "cell_type": "code",
      "source": [
        "df.head()\n"
      ],
      "metadata": {
        "colab": {
          "base_uri": "https://localhost:8080/",
          "height": 417
        },
        "id": "qE10e9YcnMwj",
        "outputId": "c3f2304d-63bd-4766-b6c1-976d3dc5849e"
      },
      "execution_count": null,
      "outputs": [
        {
          "output_type": "execute_result",
          "data": {
            "text/plain": [
              "   Unnamed: 0     Retailer  Retailer ID Invoice Date     Region     State  \\\n",
              "0           0  Foot Locker      1185732   2020-01-01  Northeast  New York   \n",
              "1           1  Foot Locker      1185732   2020-01-02  Northeast  New York   \n",
              "2           2  Foot Locker      1185732   2020-01-03  Northeast  New York   \n",
              "3           3  Foot Locker      1185732   2020-01-04  Northeast  New York   \n",
              "4           4  Foot Locker      1185732   2020-01-05  Northeast  New York   \n",
              "\n",
              "       City                    Product  Price per Unit  Units Sold  \\\n",
              "0  New York      Men's Street Footwear            50.0        1200   \n",
              "1  New York    Men's Athletic Footwear            50.0        1000   \n",
              "2  New York    Women's Street Footwear            40.0        1000   \n",
              "3  New York  Women's Athletic Footwear            45.0         850   \n",
              "4  New York              Men's Apparel            60.0         900   \n",
              "\n",
              "   Total Sales  Operating Profit  Operating Margin Sales Method    Month  \\\n",
              "0     600000.0          300000.0              0.50     In-store  January   \n",
              "1     500000.0          150000.0              0.30     In-store  January   \n",
              "2     400000.0          140000.0              0.35     In-store  January   \n",
              "3     382500.0          133875.0              0.35     In-store  January   \n",
              "4     540000.0          162000.0              0.30     In-store  January   \n",
              "\n",
              "   DayOfWeek  IsWeekend  \n",
              "0  Wednesday          0  \n",
              "1   Thursday          0  \n",
              "2     Friday          0  \n",
              "3   Saturday          1  \n",
              "4     Sunday          1  "
            ],
            "text/html": [
              "\n",
              "  <div id=\"df-f16254c0-57ec-4903-aa02-d021af0c4c66\" class=\"colab-df-container\">\n",
              "    <div>\n",
              "<style scoped>\n",
              "    .dataframe tbody tr th:only-of-type {\n",
              "        vertical-align: middle;\n",
              "    }\n",
              "\n",
              "    .dataframe tbody tr th {\n",
              "        vertical-align: top;\n",
              "    }\n",
              "\n",
              "    .dataframe thead th {\n",
              "        text-align: right;\n",
              "    }\n",
              "</style>\n",
              "<table border=\"1\" class=\"dataframe\">\n",
              "  <thead>\n",
              "    <tr style=\"text-align: right;\">\n",
              "      <th></th>\n",
              "      <th>Unnamed: 0</th>\n",
              "      <th>Retailer</th>\n",
              "      <th>Retailer ID</th>\n",
              "      <th>Invoice Date</th>\n",
              "      <th>Region</th>\n",
              "      <th>State</th>\n",
              "      <th>City</th>\n",
              "      <th>Product</th>\n",
              "      <th>Price per Unit</th>\n",
              "      <th>Units Sold</th>\n",
              "      <th>Total Sales</th>\n",
              "      <th>Operating Profit</th>\n",
              "      <th>Operating Margin</th>\n",
              "      <th>Sales Method</th>\n",
              "      <th>Month</th>\n",
              "      <th>DayOfWeek</th>\n",
              "      <th>IsWeekend</th>\n",
              "    </tr>\n",
              "  </thead>\n",
              "  <tbody>\n",
              "    <tr>\n",
              "      <th>0</th>\n",
              "      <td>0</td>\n",
              "      <td>Foot Locker</td>\n",
              "      <td>1185732</td>\n",
              "      <td>2020-01-01</td>\n",
              "      <td>Northeast</td>\n",
              "      <td>New York</td>\n",
              "      <td>New York</td>\n",
              "      <td>Men's Street Footwear</td>\n",
              "      <td>50.0</td>\n",
              "      <td>1200</td>\n",
              "      <td>600000.0</td>\n",
              "      <td>300000.0</td>\n",
              "      <td>0.50</td>\n",
              "      <td>In-store</td>\n",
              "      <td>January</td>\n",
              "      <td>Wednesday</td>\n",
              "      <td>0</td>\n",
              "    </tr>\n",
              "    <tr>\n",
              "      <th>1</th>\n",
              "      <td>1</td>\n",
              "      <td>Foot Locker</td>\n",
              "      <td>1185732</td>\n",
              "      <td>2020-01-02</td>\n",
              "      <td>Northeast</td>\n",
              "      <td>New York</td>\n",
              "      <td>New York</td>\n",
              "      <td>Men's Athletic Footwear</td>\n",
              "      <td>50.0</td>\n",
              "      <td>1000</td>\n",
              "      <td>500000.0</td>\n",
              "      <td>150000.0</td>\n",
              "      <td>0.30</td>\n",
              "      <td>In-store</td>\n",
              "      <td>January</td>\n",
              "      <td>Thursday</td>\n",
              "      <td>0</td>\n",
              "    </tr>\n",
              "    <tr>\n",
              "      <th>2</th>\n",
              "      <td>2</td>\n",
              "      <td>Foot Locker</td>\n",
              "      <td>1185732</td>\n",
              "      <td>2020-01-03</td>\n",
              "      <td>Northeast</td>\n",
              "      <td>New York</td>\n",
              "      <td>New York</td>\n",
              "      <td>Women's Street Footwear</td>\n",
              "      <td>40.0</td>\n",
              "      <td>1000</td>\n",
              "      <td>400000.0</td>\n",
              "      <td>140000.0</td>\n",
              "      <td>0.35</td>\n",
              "      <td>In-store</td>\n",
              "      <td>January</td>\n",
              "      <td>Friday</td>\n",
              "      <td>0</td>\n",
              "    </tr>\n",
              "    <tr>\n",
              "      <th>3</th>\n",
              "      <td>3</td>\n",
              "      <td>Foot Locker</td>\n",
              "      <td>1185732</td>\n",
              "      <td>2020-01-04</td>\n",
              "      <td>Northeast</td>\n",
              "      <td>New York</td>\n",
              "      <td>New York</td>\n",
              "      <td>Women's Athletic Footwear</td>\n",
              "      <td>45.0</td>\n",
              "      <td>850</td>\n",
              "      <td>382500.0</td>\n",
              "      <td>133875.0</td>\n",
              "      <td>0.35</td>\n",
              "      <td>In-store</td>\n",
              "      <td>January</td>\n",
              "      <td>Saturday</td>\n",
              "      <td>1</td>\n",
              "    </tr>\n",
              "    <tr>\n",
              "      <th>4</th>\n",
              "      <td>4</td>\n",
              "      <td>Foot Locker</td>\n",
              "      <td>1185732</td>\n",
              "      <td>2020-01-05</td>\n",
              "      <td>Northeast</td>\n",
              "      <td>New York</td>\n",
              "      <td>New York</td>\n",
              "      <td>Men's Apparel</td>\n",
              "      <td>60.0</td>\n",
              "      <td>900</td>\n",
              "      <td>540000.0</td>\n",
              "      <td>162000.0</td>\n",
              "      <td>0.30</td>\n",
              "      <td>In-store</td>\n",
              "      <td>January</td>\n",
              "      <td>Sunday</td>\n",
              "      <td>1</td>\n",
              "    </tr>\n",
              "  </tbody>\n",
              "</table>\n",
              "</div>\n",
              "    <div class=\"colab-df-buttons\">\n",
              "\n",
              "  <div class=\"colab-df-container\">\n",
              "    <button class=\"colab-df-convert\" onclick=\"convertToInteractive('df-f16254c0-57ec-4903-aa02-d021af0c4c66')\"\n",
              "            title=\"Convert this dataframe to an interactive table.\"\n",
              "            style=\"display:none;\">\n",
              "\n",
              "  <svg xmlns=\"http://www.w3.org/2000/svg\" height=\"24px\" viewBox=\"0 -960 960 960\">\n",
              "    <path d=\"M120-120v-720h720v720H120Zm60-500h600v-160H180v160Zm220 220h160v-160H400v160Zm0 220h160v-160H400v160ZM180-400h160v-160H180v160Zm440 0h160v-160H620v160ZM180-180h160v-160H180v160Zm440 0h160v-160H620v160Z\"/>\n",
              "  </svg>\n",
              "    </button>\n",
              "\n",
              "  <style>\n",
              "    .colab-df-container {\n",
              "      display:flex;\n",
              "      gap: 12px;\n",
              "    }\n",
              "\n",
              "    .colab-df-convert {\n",
              "      background-color: #E8F0FE;\n",
              "      border: none;\n",
              "      border-radius: 50%;\n",
              "      cursor: pointer;\n",
              "      display: none;\n",
              "      fill: #1967D2;\n",
              "      height: 32px;\n",
              "      padding: 0 0 0 0;\n",
              "      width: 32px;\n",
              "    }\n",
              "\n",
              "    .colab-df-convert:hover {\n",
              "      background-color: #E2EBFA;\n",
              "      box-shadow: 0px 1px 2px rgba(60, 64, 67, 0.3), 0px 1px 3px 1px rgba(60, 64, 67, 0.15);\n",
              "      fill: #174EA6;\n",
              "    }\n",
              "\n",
              "    .colab-df-buttons div {\n",
              "      margin-bottom: 4px;\n",
              "    }\n",
              "\n",
              "    [theme=dark] .colab-df-convert {\n",
              "      background-color: #3B4455;\n",
              "      fill: #D2E3FC;\n",
              "    }\n",
              "\n",
              "    [theme=dark] .colab-df-convert:hover {\n",
              "      background-color: #434B5C;\n",
              "      box-shadow: 0px 1px 3px 1px rgba(0, 0, 0, 0.15);\n",
              "      filter: drop-shadow(0px 1px 2px rgba(0, 0, 0, 0.3));\n",
              "      fill: #FFFFFF;\n",
              "    }\n",
              "  </style>\n",
              "\n",
              "    <script>\n",
              "      const buttonEl =\n",
              "        document.querySelector('#df-f16254c0-57ec-4903-aa02-d021af0c4c66 button.colab-df-convert');\n",
              "      buttonEl.style.display =\n",
              "        google.colab.kernel.accessAllowed ? 'block' : 'none';\n",
              "\n",
              "      async function convertToInteractive(key) {\n",
              "        const element = document.querySelector('#df-f16254c0-57ec-4903-aa02-d021af0c4c66');\n",
              "        const dataTable =\n",
              "          await google.colab.kernel.invokeFunction('convertToInteractive',\n",
              "                                                    [key], {});\n",
              "        if (!dataTable) return;\n",
              "\n",
              "        const docLinkHtml = 'Like what you see? Visit the ' +\n",
              "          '<a target=\"_blank\" href=https://colab.research.google.com/notebooks/data_table.ipynb>data table notebook</a>'\n",
              "          + ' to learn more about interactive tables.';\n",
              "        element.innerHTML = '';\n",
              "        dataTable['output_type'] = 'display_data';\n",
              "        await google.colab.output.renderOutput(dataTable, element);\n",
              "        const docLink = document.createElement('div');\n",
              "        docLink.innerHTML = docLinkHtml;\n",
              "        element.appendChild(docLink);\n",
              "      }\n",
              "    </script>\n",
              "  </div>\n",
              "\n",
              "\n",
              "<div id=\"df-971d9209-eaf5-43c5-b841-4262ea657593\">\n",
              "  <button class=\"colab-df-quickchart\" onclick=\"quickchart('df-971d9209-eaf5-43c5-b841-4262ea657593')\"\n",
              "            title=\"Suggest charts\"\n",
              "            style=\"display:none;\">\n",
              "\n",
              "<svg xmlns=\"http://www.w3.org/2000/svg\" height=\"24px\"viewBox=\"0 0 24 24\"\n",
              "     width=\"24px\">\n",
              "    <g>\n",
              "        <path d=\"M19 3H5c-1.1 0-2 .9-2 2v14c0 1.1.9 2 2 2h14c1.1 0 2-.9 2-2V5c0-1.1-.9-2-2-2zM9 17H7v-7h2v7zm4 0h-2V7h2v10zm4 0h-2v-4h2v4z\"/>\n",
              "    </g>\n",
              "</svg>\n",
              "  </button>\n",
              "\n",
              "<style>\n",
              "  .colab-df-quickchart {\n",
              "      --bg-color: #E8F0FE;\n",
              "      --fill-color: #1967D2;\n",
              "      --hover-bg-color: #E2EBFA;\n",
              "      --hover-fill-color: #174EA6;\n",
              "      --disabled-fill-color: #AAA;\n",
              "      --disabled-bg-color: #DDD;\n",
              "  }\n",
              "\n",
              "  [theme=dark] .colab-df-quickchart {\n",
              "      --bg-color: #3B4455;\n",
              "      --fill-color: #D2E3FC;\n",
              "      --hover-bg-color: #434B5C;\n",
              "      --hover-fill-color: #FFFFFF;\n",
              "      --disabled-bg-color: #3B4455;\n",
              "      --disabled-fill-color: #666;\n",
              "  }\n",
              "\n",
              "  .colab-df-quickchart {\n",
              "    background-color: var(--bg-color);\n",
              "    border: none;\n",
              "    border-radius: 50%;\n",
              "    cursor: pointer;\n",
              "    display: none;\n",
              "    fill: var(--fill-color);\n",
              "    height: 32px;\n",
              "    padding: 0;\n",
              "    width: 32px;\n",
              "  }\n",
              "\n",
              "  .colab-df-quickchart:hover {\n",
              "    background-color: var(--hover-bg-color);\n",
              "    box-shadow: 0 1px 2px rgba(60, 64, 67, 0.3), 0 1px 3px 1px rgba(60, 64, 67, 0.15);\n",
              "    fill: var(--button-hover-fill-color);\n",
              "  }\n",
              "\n",
              "  .colab-df-quickchart-complete:disabled,\n",
              "  .colab-df-quickchart-complete:disabled:hover {\n",
              "    background-color: var(--disabled-bg-color);\n",
              "    fill: var(--disabled-fill-color);\n",
              "    box-shadow: none;\n",
              "  }\n",
              "\n",
              "  .colab-df-spinner {\n",
              "    border: 2px solid var(--fill-color);\n",
              "    border-color: transparent;\n",
              "    border-bottom-color: var(--fill-color);\n",
              "    animation:\n",
              "      spin 1s steps(1) infinite;\n",
              "  }\n",
              "\n",
              "  @keyframes spin {\n",
              "    0% {\n",
              "      border-color: transparent;\n",
              "      border-bottom-color: var(--fill-color);\n",
              "      border-left-color: var(--fill-color);\n",
              "    }\n",
              "    20% {\n",
              "      border-color: transparent;\n",
              "      border-left-color: var(--fill-color);\n",
              "      border-top-color: var(--fill-color);\n",
              "    }\n",
              "    30% {\n",
              "      border-color: transparent;\n",
              "      border-left-color: var(--fill-color);\n",
              "      border-top-color: var(--fill-color);\n",
              "      border-right-color: var(--fill-color);\n",
              "    }\n",
              "    40% {\n",
              "      border-color: transparent;\n",
              "      border-right-color: var(--fill-color);\n",
              "      border-top-color: var(--fill-color);\n",
              "    }\n",
              "    60% {\n",
              "      border-color: transparent;\n",
              "      border-right-color: var(--fill-color);\n",
              "    }\n",
              "    80% {\n",
              "      border-color: transparent;\n",
              "      border-right-color: var(--fill-color);\n",
              "      border-bottom-color: var(--fill-color);\n",
              "    }\n",
              "    90% {\n",
              "      border-color: transparent;\n",
              "      border-bottom-color: var(--fill-color);\n",
              "    }\n",
              "  }\n",
              "</style>\n",
              "\n",
              "  <script>\n",
              "    async function quickchart(key) {\n",
              "      const quickchartButtonEl =\n",
              "        document.querySelector('#' + key + ' button');\n",
              "      quickchartButtonEl.disabled = true;  // To prevent multiple clicks.\n",
              "      quickchartButtonEl.classList.add('colab-df-spinner');\n",
              "      try {\n",
              "        const charts = await google.colab.kernel.invokeFunction(\n",
              "            'suggestCharts', [key], {});\n",
              "      } catch (error) {\n",
              "        console.error('Error during call to suggestCharts:', error);\n",
              "      }\n",
              "      quickchartButtonEl.classList.remove('colab-df-spinner');\n",
              "      quickchartButtonEl.classList.add('colab-df-quickchart-complete');\n",
              "    }\n",
              "    (() => {\n",
              "      let quickchartButtonEl =\n",
              "        document.querySelector('#df-971d9209-eaf5-43c5-b841-4262ea657593 button');\n",
              "      quickchartButtonEl.style.display =\n",
              "        google.colab.kernel.accessAllowed ? 'block' : 'none';\n",
              "    })();\n",
              "  </script>\n",
              "</div>\n",
              "\n",
              "    </div>\n",
              "  </div>\n"
            ],
            "application/vnd.google.colaboratory.intrinsic+json": {
              "type": "dataframe",
              "variable_name": "df",
              "summary": "{\n  \"name\": \"df\",\n  \"rows\": 9648,\n  \"fields\": [\n    {\n      \"column\": \"Unnamed: 0\",\n      \"properties\": {\n        \"dtype\": \"number\",\n        \"std\": 2785,\n        \"min\": 0,\n        \"max\": 9647,\n        \"num_unique_values\": 9648,\n        \"samples\": [\n          2997,\n          7903,\n          4012\n        ],\n        \"semantic_type\": \"\",\n        \"description\": \"\"\n      }\n    },\n    {\n      \"column\": \"Retailer\",\n      \"properties\": {\n        \"dtype\": \"category\",\n        \"num_unique_values\": 6,\n        \"samples\": [\n          \"Foot Locker\",\n          \"Walmart\",\n          \"Amazon\"\n        ],\n        \"semantic_type\": \"\",\n        \"description\": \"\"\n      }\n    },\n    {\n      \"column\": \"Retailer ID\",\n      \"properties\": {\n        \"dtype\": \"number\",\n        \"std\": 26360,\n        \"min\": 1128299,\n        \"max\": 1197831,\n        \"num_unique_values\": 4,\n        \"samples\": [\n          1197831,\n          1189833,\n          1185732\n        ],\n        \"semantic_type\": \"\",\n        \"description\": \"\"\n      }\n    },\n    {\n      \"column\": \"Invoice Date\",\n      \"properties\": {\n        \"dtype\": \"date\",\n        \"min\": \"2020-01-01 00:00:00\",\n        \"max\": \"2021-12-31 00:00:00\",\n        \"num_unique_values\": 724,\n        \"samples\": [\n          \"2021-07-12 00:00:00\",\n          \"2020-02-18 00:00:00\",\n          \"2020-04-12 00:00:00\"\n        ],\n        \"semantic_type\": \"\",\n        \"description\": \"\"\n      }\n    },\n    {\n      \"column\": \"Region\",\n      \"properties\": {\n        \"dtype\": \"category\",\n        \"num_unique_values\": 5,\n        \"samples\": [\n          \"South\",\n          \"Southeast\",\n          \"West\"\n        ],\n        \"semantic_type\": \"\",\n        \"description\": \"\"\n      }\n    },\n    {\n      \"column\": \"State\",\n      \"properties\": {\n        \"dtype\": \"category\",\n        \"num_unique_values\": 50,\n        \"samples\": [\n          \"Alabama\",\n          \"Wisconsin\",\n          \"Ohio\"\n        ],\n        \"semantic_type\": \"\",\n        \"description\": \"\"\n      }\n    },\n    {\n      \"column\": \"City\",\n      \"properties\": {\n        \"dtype\": \"category\",\n        \"num_unique_values\": 52,\n        \"samples\": [\n          \"Orlando\",\n          \"Des Moines\",\n          \"Hartford\"\n        ],\n        \"semantic_type\": \"\",\n        \"description\": \"\"\n      }\n    },\n    {\n      \"column\": \"Product\",\n      \"properties\": {\n        \"dtype\": \"category\",\n        \"num_unique_values\": 6,\n        \"samples\": [\n          \"Men's Street Footwear\",\n          \"Men's Athletic Footwear\",\n          \"Women's Apparel\"\n        ],\n        \"semantic_type\": \"\",\n        \"description\": \"\"\n      }\n    },\n    {\n      \"column\": \"Price per Unit\",\n      \"properties\": {\n        \"dtype\": \"number\",\n        \"std\": 14.705397125008176,\n        \"min\": 7.0,\n        \"max\": 110.0,\n        \"num_unique_values\": 139,\n        \"samples\": [\n          16.0,\n          55.0,\n          59.99999999999999\n        ],\n        \"semantic_type\": \"\",\n        \"description\": \"\"\n      }\n    },\n    {\n      \"column\": \"Units Sold\",\n      \"properties\": {\n        \"dtype\": \"number\",\n        \"std\": 214,\n        \"min\": 0,\n        \"max\": 1275,\n        \"num_unique_values\": 361,\n        \"samples\": [\n          156,\n          475,\n          1075\n        ],\n        \"semantic_type\": \"\",\n        \"description\": \"\"\n      }\n    },\n    {\n      \"column\": \"Total Sales\",\n      \"properties\": {\n        \"dtype\": \"number\",\n        \"std\": 141916.0167268306,\n        \"min\": 0.0,\n        \"max\": 825000.0000000001,\n        \"num_unique_values\": 3464,\n        \"samples\": [\n          7802.0,\n          403750.00000000006,\n          1498.0\n        ],\n        \"semantic_type\": \"\",\n        \"description\": \"\"\n      }\n    },\n    {\n      \"column\": \"Operating Profit\",\n      \"properties\": {\n        \"dtype\": \"number\",\n        \"std\": 54193.113713232204,\n        \"min\": 0.0,\n        \"max\": 390000.0,\n        \"num_unique_values\": 6298,\n        \"samples\": [\n          823.6800000000001,\n          1068.93,\n          3324.1600000000003\n        ],\n        \"semantic_type\": \"\",\n        \"description\": \"\"\n      }\n    },\n    {\n      \"column\": \"Operating Margin\",\n      \"properties\": {\n        \"dtype\": \"number\",\n        \"std\": 0.09719741850510742,\n        \"min\": 0.1,\n        \"max\": 0.8000000000000002,\n        \"num_unique_values\": 110,\n        \"samples\": [\n          0.6399999999999999,\n          0.1,\n          0.45\n        ],\n        \"semantic_type\": \"\",\n        \"description\": \"\"\n      }\n    },\n    {\n      \"column\": \"Sales Method\",\n      \"properties\": {\n        \"dtype\": \"category\",\n        \"num_unique_values\": 3,\n        \"samples\": [\n          \"In-store\",\n          \"Outlet\",\n          \"Online\"\n        ],\n        \"semantic_type\": \"\",\n        \"description\": \"\"\n      }\n    },\n    {\n      \"column\": \"Month\",\n      \"properties\": {\n        \"dtype\": \"category\",\n        \"num_unique_values\": 12,\n        \"samples\": [\n          \"December\",\n          \"November\",\n          \"January\"\n        ],\n        \"semantic_type\": \"\",\n        \"description\": \"\"\n      }\n    },\n    {\n      \"column\": \"DayOfWeek\",\n      \"properties\": {\n        \"dtype\": \"category\",\n        \"num_unique_values\": 7,\n        \"samples\": [\n          \"Wednesday\",\n          \"Thursday\",\n          \"Monday\"\n        ],\n        \"semantic_type\": \"\",\n        \"description\": \"\"\n      }\n    },\n    {\n      \"column\": \"IsWeekend\",\n      \"properties\": {\n        \"dtype\": \"number\",\n        \"std\": 0,\n        \"min\": 0,\n        \"max\": 1,\n        \"num_unique_values\": 2,\n        \"samples\": [\n          1,\n          0\n        ],\n        \"semantic_type\": \"\",\n        \"description\": \"\"\n      }\n    }\n  ]\n}"
            }
          },
          "metadata": {},
          "execution_count": 42
        }
      ]
    },
    {
      "source": [
        "# 4. Correlation between Variables\n",
        "# Select only numeric columns and drop irrelevant ones\n",
        "numeric_df = df.select_dtypes(include=np.number).drop(columns=['Unnamed: 0', 'Retailer ID'])\n",
        "\n",
        "# Calculate correlation matrix on numeric columns\n",
        "correlation_matrix = numeric_df.corr()\n",
        "\n",
        "print(\"\\nCorrelation between variables:\")\n",
        "print(correlation_matrix)"
      ],
      "cell_type": "code",
      "metadata": {
        "colab": {
          "base_uri": "https://localhost:8080/"
        },
        "id": "56Hxx7B8pY6o",
        "outputId": "4f2a45f0-76cd-4648-cf5d-7a8b014922e0"
      },
      "execution_count": null,
      "outputs": [
        {
          "output_type": "stream",
          "name": "stdout",
          "text": [
            "\n",
            "Correlation between variables:\n",
            "                  Price per Unit  Units Sold  Total Sales  Operating Profit  \\\n",
            "Price per Unit          1.000000    0.265869     0.435811          0.394546   \n",
            "Units Sold              0.265869    1.000000     0.913431          0.892379   \n",
            "Total Sales             0.435811    0.913431     1.000000          0.956307   \n",
            "Operating Profit        0.394546    0.892379     0.956307          1.000000   \n",
            "Operating Margin       -0.137486   -0.305479    -0.364592         -0.211920   \n",
            "IsWeekend              -0.085303   -0.034317    -0.036925         -0.038288   \n",
            "\n",
            "                  Operating Margin  IsWeekend  \n",
            "Price per Unit           -0.137486  -0.085303  \n",
            "Units Sold               -0.305479  -0.034317  \n",
            "Total Sales              -0.364592  -0.036925  \n",
            "Operating Profit         -0.211920  -0.038288  \n",
            "Operating Margin          1.000000  -0.011627  \n",
            "IsWeekend                -0.011627   1.000000  \n"
          ]
        }
      ]
    },
    {
      "cell_type": "code",
      "source": [
        "# 5. Calculate citywise total sales and operating profit\n",
        "city_profit = df.groupby('City')[['Total Sales', 'Operating Profit']].sum()\n",
        "\n",
        "# Calculate profit percent for each city\n",
        "city_profit['Profit Percent'] = (city_profit['Operating Profit'] / city_profit['Total Sales']) * 100\n",
        "\n",
        "# Display the results\n",
        "print(\"\\nCitywise Profit Percent:\")\n",
        "print(city_profit[['Profit Percent']])"
      ],
      "metadata": {
        "colab": {
          "base_uri": "https://localhost:8080/"
        },
        "id": "GfzSz7ZUqYEH",
        "outputId": "cab2759f-2ece-472e-bb1d-0a434596052e"
      },
      "execution_count": null,
      "outputs": [
        {
          "output_type": "stream",
          "name": "stdout",
          "text": [
            "\n",
            "Citywise Profit Percent:\n",
            "                Profit Percent\n",
            "City                          \n",
            "Albany               38.602942\n",
            "Albuquerque          33.919230\n",
            "Anchorage            30.490846\n",
            "Atlanta              36.285311\n",
            "Baltimore            35.545516\n",
            "Billings             39.667003\n",
            "Birmingham           51.876376\n",
            "Boise                42.128788\n",
            "Boston               30.278355\n",
            "Burlington           40.312113\n",
            "Charleston           39.042575\n",
            "Charlotte            40.725524\n",
            "Cheyenne             35.225758\n",
            "Chicago              40.014018\n",
            "Columbus             40.730376\n",
            "Dallas               42.305510\n",
            "Denver               36.737278\n",
            "Des Moines           35.765267\n",
            "Detroit              43.681637\n",
            "Fargo                34.755244\n",
            "Hartford             35.877992\n",
            "Honolulu             26.252913\n",
            "Houston              38.673790\n",
            "Indianapolis         38.243326\n",
            "Jackson              40.849241\n",
            "Knoxville            47.010866\n",
            "Las Vegas            33.850224\n",
            "Little Rock          38.892024\n",
            "Los Angeles          35.283603\n",
            "Louisville           39.073659\n",
            "Manchester           35.256665\n",
            "Miami                38.507237\n",
            "Milwaukee            36.245116\n",
            "Minneapolis          36.191450\n",
            "New Orleans          39.650206\n",
            "New York             34.923472\n",
            "Newark               36.814442\n",
            "Oklahoma City        38.665239\n",
            "Omaha                41.144591\n",
            "Orlando              31.635426\n",
            "Philadelphia         40.132577\n",
            "Phoenix              33.865098\n",
            "Portland             35.228580\n",
            "Providence           36.058804\n",
            "Richmond             35.779450\n",
            "Salt Lake City       39.947002\n",
            "San Francisco        29.694503\n",
            "Seattle              26.552269\n",
            "Sioux Falls          34.645305\n",
            "St. Louis            40.350123\n",
            "Wichita              35.196983\n",
            "Wilmington           36.788083\n"
          ]
        }
      ]
    },
    {
      "cell_type": "code",
      "source": [
        "# 6. Calculate total sales for each retailer\n",
        "retailer_sales = df.groupby('Retailer')['Total Sales'].sum()\n",
        "\n",
        "# Calculate total sales for all retailers\n",
        "total_sales = retailer_sales.sum()\n",
        "\n",
        "# Calculate market share for each retailer\n",
        "retailer_sales['Market Share'] = (retailer_sales / total_sales) * 100\n",
        "\n",
        "# Display the results\n",
        "print(\"\\nMarket Share of Each Retailer:\")\n",
        "print(retailer_sales[['Market Share']])"
      ],
      "metadata": {
        "colab": {
          "base_uri": "https://localhost:8080/"
        },
        "id": "ZLkzsyV6qtJC",
        "outputId": "51537885-f6be-4a78-fbee-d1d0e99010d6"
      },
      "execution_count": null,
      "outputs": [
        {
          "output_type": "stream",
          "name": "stdout",
          "text": [
            "\n",
            "Market Share of Each Retailer:\n",
            "Retailer\n",
            "Market Share    Retailer\n",
            "Amazon            8.634151\n",
            "Foot Locke...\n",
            "Name: Total Sales, dtype: object\n"
          ]
        }
      ]
    },
    {
      "cell_type": "code",
      "source": [
        "# 7. Group by region and retailer, then sum total sales\n",
        "region_retailer_sales = df.groupby(['Region', 'Retailer'])['Total Sales'].sum()\n",
        "\n",
        "# Get the top retailer for each region\n",
        "top_retailers = region_retailer_sales.groupby('Region').idxmax()\n",
        "\n",
        "# Display the results\n",
        "print(\"\\nTop Retailers with Respect to Regionwise Sales:\")\n",
        "print(top_retailers)"
      ],
      "metadata": {
        "colab": {
          "base_uri": "https://localhost:8080/"
        },
        "id": "9T4n1G7zqtYX",
        "outputId": "5bed20f8-7516-47aa-c042-44067448e849"
      },
      "execution_count": null,
      "outputs": [
        {
          "output_type": "stream",
          "name": "stdout",
          "text": [
            "\n",
            "Top Retailers with Respect to Regionwise Sales:\n",
            "Region\n",
            "Midwest        (Midwest, Foot Locker)\n",
            "Northeast    (Northeast, Foot Locker)\n",
            "South          (South, Sports Direct)\n",
            "Southeast    (Southeast, Foot Locker)\n",
            "West                (West, West Gear)\n",
            "Name: Total Sales, dtype: object\n"
          ]
        }
      ]
    },
    {
      "cell_type": "code",
      "source": [
        "# 8. Calculate total sales for each sales method\n",
        "sales_method_sales = df.groupby('Sales Method')['Total Sales'].sum()\n",
        "\n",
        "# Get the sales method with the highest sales\n",
        "top_sales_method = sales_method_sales.idxmax()\n",
        "\n",
        "# Display the result\n",
        "print(\"\\nTop Sales Mode:\")\n",
        "print(top_sales_method)"
      ],
      "metadata": {
        "colab": {
          "base_uri": "https://localhost:8080/"
        },
        "id": "1KMXG0viq1Ra",
        "outputId": "5ac8f842-ddeb-44f7-ce7c-8ef0cfc015bb"
      },
      "execution_count": null,
      "outputs": [
        {
          "output_type": "stream",
          "name": "stdout",
          "text": [
            "\n",
            "Top Sales Mode:\n",
            "In-store\n"
          ]
        }
      ]
    }
  ]
}