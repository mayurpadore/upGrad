{
 "cells": [
  {
   "cell_type": "markdown",
   "id": "b23b4ad8",
   "metadata": {},
   "source": [
    "## Adidas US Sales"
   ]
  },
  {
   "cell_type": "code",
   "execution_count": 1,
   "id": "6b44e568",
   "metadata": {},
   "outputs": [],
   "source": [
    "# Suppress Warnings\n",
    "\n",
    "import warnings\n",
    "warnings.filterwarnings(\"ignore\")"
   ]
  },
  {
   "cell_type": "code",
   "execution_count": 2,
   "id": "42acfbcf",
   "metadata": {},
   "outputs": [],
   "source": [
    "# Libraries for Data Analysis\n",
    "\n",
    "import numpy as np\n",
    "import pandas as pd"
   ]
  },
  {
   "cell_type": "code",
   "execution_count": 3,
   "id": "06fd6d4b",
   "metadata": {},
   "outputs": [],
   "source": [
    "# Libraries for Data Visualization\n",
    "\n",
    "import matplotlib.pyplot as plt\n",
    "import seaborn as sns"
   ]
  },
  {
   "cell_type": "code",
   "execution_count": 4,
   "id": "ac2d6a84",
   "metadata": {},
   "outputs": [],
   "source": [
    "# Load Dataset\n",
    "\n",
    "df = pd.read_csv(\"adidas.csv\")"
   ]
  },
  {
   "cell_type": "code",
   "execution_count": 5,
   "id": "feab5a6e",
   "metadata": {},
   "outputs": [
    {
     "data": {
      "text/html": [
       "<div>\n",
       "<style scoped>\n",
       "    .dataframe tbody tr th:only-of-type {\n",
       "        vertical-align: middle;\n",
       "    }\n",
       "\n",
       "    .dataframe tbody tr th {\n",
       "        vertical-align: top;\n",
       "    }\n",
       "\n",
       "    .dataframe thead th {\n",
       "        text-align: right;\n",
       "    }\n",
       "</style>\n",
       "<table border=\"1\" class=\"dataframe\">\n",
       "  <thead>\n",
       "    <tr style=\"text-align: right;\">\n",
       "      <th></th>\n",
       "      <th>Unnamed: 0</th>\n",
       "      <th>Retailer</th>\n",
       "      <th>Retailer ID</th>\n",
       "      <th>Invoice Date</th>\n",
       "      <th>Region</th>\n",
       "      <th>State</th>\n",
       "      <th>City</th>\n",
       "      <th>Product</th>\n",
       "      <th>Price per Unit</th>\n",
       "      <th>Units Sold</th>\n",
       "      <th>Total Sales</th>\n",
       "      <th>Operating Profit</th>\n",
       "      <th>Operating Margin</th>\n",
       "      <th>Sales Method</th>\n",
       "    </tr>\n",
       "  </thead>\n",
       "  <tbody>\n",
       "    <tr>\n",
       "      <th>0</th>\n",
       "      <td>0</td>\n",
       "      <td>Foot Locker</td>\n",
       "      <td>1185732</td>\n",
       "      <td>2020-01-01 00:00:00</td>\n",
       "      <td>Northeast</td>\n",
       "      <td>New York</td>\n",
       "      <td>New York</td>\n",
       "      <td>Men's Street Footwear</td>\n",
       "      <td>50.0</td>\n",
       "      <td>1200</td>\n",
       "      <td>600000.0</td>\n",
       "      <td>300000.0</td>\n",
       "      <td>0.50</td>\n",
       "      <td>In-store</td>\n",
       "    </tr>\n",
       "    <tr>\n",
       "      <th>1</th>\n",
       "      <td>1</td>\n",
       "      <td>Foot Locker</td>\n",
       "      <td>1185732</td>\n",
       "      <td>2020-01-02 00:00:00</td>\n",
       "      <td>Northeast</td>\n",
       "      <td>New York</td>\n",
       "      <td>New York</td>\n",
       "      <td>Men's Athletic Footwear</td>\n",
       "      <td>50.0</td>\n",
       "      <td>1000</td>\n",
       "      <td>500000.0</td>\n",
       "      <td>150000.0</td>\n",
       "      <td>0.30</td>\n",
       "      <td>In-store</td>\n",
       "    </tr>\n",
       "    <tr>\n",
       "      <th>2</th>\n",
       "      <td>2</td>\n",
       "      <td>Foot Locker</td>\n",
       "      <td>1185732</td>\n",
       "      <td>2020-01-03 00:00:00</td>\n",
       "      <td>Northeast</td>\n",
       "      <td>New York</td>\n",
       "      <td>New York</td>\n",
       "      <td>Women's Street Footwear</td>\n",
       "      <td>40.0</td>\n",
       "      <td>1000</td>\n",
       "      <td>400000.0</td>\n",
       "      <td>140000.0</td>\n",
       "      <td>0.35</td>\n",
       "      <td>In-store</td>\n",
       "    </tr>\n",
       "    <tr>\n",
       "      <th>3</th>\n",
       "      <td>3</td>\n",
       "      <td>Foot Locker</td>\n",
       "      <td>1185732</td>\n",
       "      <td>2020-01-04 00:00:00</td>\n",
       "      <td>Northeast</td>\n",
       "      <td>New York</td>\n",
       "      <td>New York</td>\n",
       "      <td>Women's Athletic Footwear</td>\n",
       "      <td>45.0</td>\n",
       "      <td>850</td>\n",
       "      <td>382500.0</td>\n",
       "      <td>133875.0</td>\n",
       "      <td>0.35</td>\n",
       "      <td>In-store</td>\n",
       "    </tr>\n",
       "    <tr>\n",
       "      <th>4</th>\n",
       "      <td>4</td>\n",
       "      <td>Foot Locker</td>\n",
       "      <td>1185732</td>\n",
       "      <td>2020-01-05 00:00:00</td>\n",
       "      <td>Northeast</td>\n",
       "      <td>New York</td>\n",
       "      <td>New York</td>\n",
       "      <td>Men's Apparel</td>\n",
       "      <td>60.0</td>\n",
       "      <td>900</td>\n",
       "      <td>540000.0</td>\n",
       "      <td>162000.0</td>\n",
       "      <td>0.30</td>\n",
       "      <td>In-store</td>\n",
       "    </tr>\n",
       "  </tbody>\n",
       "</table>\n",
       "</div>"
      ],
      "text/plain": [
       "   Unnamed: 0     Retailer  Retailer ID         Invoice Date     Region  \\\n",
       "0           0  Foot Locker      1185732  2020-01-01 00:00:00  Northeast   \n",
       "1           1  Foot Locker      1185732  2020-01-02 00:00:00  Northeast   \n",
       "2           2  Foot Locker      1185732  2020-01-03 00:00:00  Northeast   \n",
       "3           3  Foot Locker      1185732  2020-01-04 00:00:00  Northeast   \n",
       "4           4  Foot Locker      1185732  2020-01-05 00:00:00  Northeast   \n",
       "\n",
       "      State      City                    Product  Price per Unit  Units Sold  \\\n",
       "0  New York  New York      Men's Street Footwear            50.0        1200   \n",
       "1  New York  New York    Men's Athletic Footwear            50.0        1000   \n",
       "2  New York  New York    Women's Street Footwear            40.0        1000   \n",
       "3  New York  New York  Women's Athletic Footwear            45.0         850   \n",
       "4  New York  New York              Men's Apparel            60.0         900   \n",
       "\n",
       "   Total Sales  Operating Profit  Operating Margin Sales Method  \n",
       "0     600000.0          300000.0              0.50     In-store  \n",
       "1     500000.0          150000.0              0.30     In-store  \n",
       "2     400000.0          140000.0              0.35     In-store  \n",
       "3     382500.0          133875.0              0.35     In-store  \n",
       "4     540000.0          162000.0              0.30     In-store  "
      ]
     },
     "execution_count": 5,
     "metadata": {},
     "output_type": "execute_result"
    }
   ],
   "source": [
    "df.head()"
   ]
  },
  {
   "cell_type": "code",
   "execution_count": 6,
   "id": "96119c61",
   "metadata": {},
   "outputs": [
    {
     "data": {
      "text/plain": [
       "(9648, 14)"
      ]
     },
     "execution_count": 6,
     "metadata": {},
     "output_type": "execute_result"
    }
   ],
   "source": [
    "df.shape"
   ]
  },
  {
   "cell_type": "code",
   "execution_count": 7,
   "id": "ac3a902c",
   "metadata": {},
   "outputs": [
    {
     "name": "stdout",
     "output_type": "stream",
     "text": [
      "Total Rows : 9648\n",
      "Total Columns : 14\n"
     ]
    }
   ],
   "source": [
    "print(\"Total Rows :\", df.shape[0])\n",
    "print(\"Total Columns :\", df.shape[1])"
   ]
  },
  {
   "cell_type": "code",
   "execution_count": 8,
   "id": "195a3ef2",
   "metadata": {},
   "outputs": [
    {
     "name": "stdout",
     "output_type": "stream",
     "text": [
      "<class 'pandas.core.frame.DataFrame'>\n",
      "RangeIndex: 9648 entries, 0 to 9647\n",
      "Data columns (total 14 columns):\n",
      " #   Column            Non-Null Count  Dtype  \n",
      "---  ------            --------------  -----  \n",
      " 0   Unnamed: 0        9648 non-null   int64  \n",
      " 1   Retailer          9648 non-null   object \n",
      " 2   Retailer ID       9648 non-null   int64  \n",
      " 3   Invoice Date      9648 non-null   object \n",
      " 4   Region            9648 non-null   object \n",
      " 5   State             9648 non-null   object \n",
      " 6   City              9648 non-null   object \n",
      " 7   Product           9648 non-null   object \n",
      " 8   Price per Unit    9648 non-null   float64\n",
      " 9   Units Sold        9648 non-null   int64  \n",
      " 10  Total Sales       9648 non-null   float64\n",
      " 11  Operating Profit  9648 non-null   float64\n",
      " 12  Operating Margin  9648 non-null   float64\n",
      " 13  Sales Method      9648 non-null   object \n",
      "dtypes: float64(4), int64(3), object(7)\n",
      "memory usage: 1.0+ MB\n"
     ]
    }
   ],
   "source": [
    "# Information about the dataset\n",
    "\n",
    "df.info()"
   ]
  },
  {
   "cell_type": "code",
   "execution_count": 9,
   "id": "5222580f",
   "metadata": {},
   "outputs": [
    {
     "data": {
      "text/plain": [
       "Index(['Unnamed: 0', 'Retailer', 'Retailer ID', 'Invoice Date', 'Region',\n",
       "       'State', 'City', 'Product', 'Price per Unit', 'Units Sold',\n",
       "       'Total Sales', 'Operating Profit', 'Operating Margin', 'Sales Method'],\n",
       "      dtype='object')"
      ]
     },
     "execution_count": 9,
     "metadata": {},
     "output_type": "execute_result"
    }
   ],
   "source": [
    "df.columns"
   ]
  },
  {
   "cell_type": "code",
   "execution_count": 10,
   "id": "5549bfdb",
   "metadata": {},
   "outputs": [],
   "source": [
    "# Remove leading/trailing spaces from column names\n",
    "\n",
    "df.columns = df.columns.str.strip()  "
   ]
  },
  {
   "cell_type": "code",
   "execution_count": 11,
   "id": "25a7b4b9",
   "metadata": {},
   "outputs": [
    {
     "data": {
      "text/html": [
       "<div>\n",
       "<style scoped>\n",
       "    .dataframe tbody tr th:only-of-type {\n",
       "        vertical-align: middle;\n",
       "    }\n",
       "\n",
       "    .dataframe tbody tr th {\n",
       "        vertical-align: top;\n",
       "    }\n",
       "\n",
       "    .dataframe thead th {\n",
       "        text-align: right;\n",
       "    }\n",
       "</style>\n",
       "<table border=\"1\" class=\"dataframe\">\n",
       "  <thead>\n",
       "    <tr style=\"text-align: right;\">\n",
       "      <th></th>\n",
       "      <th>Unnamed: 0</th>\n",
       "      <th>Retailer ID</th>\n",
       "      <th>Price per Unit</th>\n",
       "      <th>Units Sold</th>\n",
       "      <th>Total Sales</th>\n",
       "      <th>Operating Profit</th>\n",
       "      <th>Operating Margin</th>\n",
       "    </tr>\n",
       "  </thead>\n",
       "  <tbody>\n",
       "    <tr>\n",
       "      <th>count</th>\n",
       "      <td>9648.000000</td>\n",
       "      <td>9.648000e+03</td>\n",
       "      <td>9648.000000</td>\n",
       "      <td>9648.000000</td>\n",
       "      <td>9648.000000</td>\n",
       "      <td>9648.000000</td>\n",
       "      <td>9648.000000</td>\n",
       "    </tr>\n",
       "    <tr>\n",
       "      <th>mean</th>\n",
       "      <td>4823.500000</td>\n",
       "      <td>1.173850e+06</td>\n",
       "      <td>45.216625</td>\n",
       "      <td>256.930037</td>\n",
       "      <td>93273.437500</td>\n",
       "      <td>34425.244761</td>\n",
       "      <td>0.422991</td>\n",
       "    </tr>\n",
       "    <tr>\n",
       "      <th>std</th>\n",
       "      <td>2785.282032</td>\n",
       "      <td>2.636038e+04</td>\n",
       "      <td>14.705397</td>\n",
       "      <td>214.252030</td>\n",
       "      <td>141916.016727</td>\n",
       "      <td>54193.113713</td>\n",
       "      <td>0.097197</td>\n",
       "    </tr>\n",
       "    <tr>\n",
       "      <th>min</th>\n",
       "      <td>0.000000</td>\n",
       "      <td>1.128299e+06</td>\n",
       "      <td>7.000000</td>\n",
       "      <td>0.000000</td>\n",
       "      <td>0.000000</td>\n",
       "      <td>0.000000</td>\n",
       "      <td>0.100000</td>\n",
       "    </tr>\n",
       "    <tr>\n",
       "      <th>25%</th>\n",
       "      <td>2411.750000</td>\n",
       "      <td>1.185732e+06</td>\n",
       "      <td>35.000000</td>\n",
       "      <td>106.000000</td>\n",
       "      <td>4254.500000</td>\n",
       "      <td>1921.752500</td>\n",
       "      <td>0.350000</td>\n",
       "    </tr>\n",
       "    <tr>\n",
       "      <th>50%</th>\n",
       "      <td>4823.500000</td>\n",
       "      <td>1.185732e+06</td>\n",
       "      <td>45.000000</td>\n",
       "      <td>176.000000</td>\n",
       "      <td>9576.000000</td>\n",
       "      <td>4371.420000</td>\n",
       "      <td>0.410000</td>\n",
       "    </tr>\n",
       "    <tr>\n",
       "      <th>75%</th>\n",
       "      <td>7235.250000</td>\n",
       "      <td>1.185732e+06</td>\n",
       "      <td>55.000000</td>\n",
       "      <td>350.000000</td>\n",
       "      <td>150000.000000</td>\n",
       "      <td>52062.500000</td>\n",
       "      <td>0.490000</td>\n",
       "    </tr>\n",
       "    <tr>\n",
       "      <th>max</th>\n",
       "      <td>9647.000000</td>\n",
       "      <td>1.197831e+06</td>\n",
       "      <td>110.000000</td>\n",
       "      <td>1275.000000</td>\n",
       "      <td>825000.000000</td>\n",
       "      <td>390000.000000</td>\n",
       "      <td>0.800000</td>\n",
       "    </tr>\n",
       "  </tbody>\n",
       "</table>\n",
       "</div>"
      ],
      "text/plain": [
       "        Unnamed: 0   Retailer ID  Price per Unit   Units Sold    Total Sales  \\\n",
       "count  9648.000000  9.648000e+03     9648.000000  9648.000000    9648.000000   \n",
       "mean   4823.500000  1.173850e+06       45.216625   256.930037   93273.437500   \n",
       "std    2785.282032  2.636038e+04       14.705397   214.252030  141916.016727   \n",
       "min       0.000000  1.128299e+06        7.000000     0.000000       0.000000   \n",
       "25%    2411.750000  1.185732e+06       35.000000   106.000000    4254.500000   \n",
       "50%    4823.500000  1.185732e+06       45.000000   176.000000    9576.000000   \n",
       "75%    7235.250000  1.185732e+06       55.000000   350.000000  150000.000000   \n",
       "max    9647.000000  1.197831e+06      110.000000  1275.000000  825000.000000   \n",
       "\n",
       "       Operating Profit  Operating Margin  \n",
       "count       9648.000000       9648.000000  \n",
       "mean       34425.244761          0.422991  \n",
       "std        54193.113713          0.097197  \n",
       "min            0.000000          0.100000  \n",
       "25%         1921.752500          0.350000  \n",
       "50%         4371.420000          0.410000  \n",
       "75%        52062.500000          0.490000  \n",
       "max       390000.000000          0.800000  "
      ]
     },
     "execution_count": 11,
     "metadata": {},
     "output_type": "execute_result"
    }
   ],
   "source": [
    "# Descriptive statistics\n",
    "\n",
    "df.describe()"
   ]
  },
  {
   "cell_type": "code",
   "execution_count": 12,
   "id": "1da7ee9a",
   "metadata": {},
   "outputs": [
    {
     "data": {
      "text/plain": [
       "Unnamed: 0          0\n",
       "Retailer            0\n",
       "Retailer ID         0\n",
       "Invoice Date        0\n",
       "Region              0\n",
       "State               0\n",
       "City                0\n",
       "Product             0\n",
       "Price per Unit      0\n",
       "Units Sold          0\n",
       "Total Sales         0\n",
       "Operating Profit    0\n",
       "Operating Margin    0\n",
       "Sales Method        0\n",
       "dtype: int64"
      ]
     },
     "execution_count": 12,
     "metadata": {},
     "output_type": "execute_result"
    }
   ],
   "source": [
    "# Check for null value\n",
    "\n",
    "df.isnull().sum()"
   ]
  },
  {
   "cell_type": "code",
   "execution_count": 13,
   "id": "52acb987",
   "metadata": {},
   "outputs": [],
   "source": [
    "# Drop Unwanted column\n",
    "\n",
    "df = df.drop(['Unnamed: 0'], axis=1)"
   ]
  },
  {
   "cell_type": "code",
   "execution_count": 14,
   "id": "bdfef2a9",
   "metadata": {},
   "outputs": [],
   "source": [
    "# Change Date Format\n",
    "\n",
    "df['Invoice Date'] = pd.to_datetime(df[\"Invoice Date\"], errors='coerce')\n",
    "\n",
    "df['Day'] = df['Invoice Date'].dt.day_name()\n",
    "\n",
    "df['Month'] = df['Invoice Date'].dt.month_name()\n",
    "\n",
    "df['Year'] = df['Invoice Date'].dt.year"
   ]
  },
  {
   "cell_type": "code",
   "execution_count": 15,
   "id": "3dc7a410",
   "metadata": {},
   "outputs": [
    {
     "data": {
      "text/html": [
       "<div>\n",
       "<style scoped>\n",
       "    .dataframe tbody tr th:only-of-type {\n",
       "        vertical-align: middle;\n",
       "    }\n",
       "\n",
       "    .dataframe tbody tr th {\n",
       "        vertical-align: top;\n",
       "    }\n",
       "\n",
       "    .dataframe thead th {\n",
       "        text-align: right;\n",
       "    }\n",
       "</style>\n",
       "<table border=\"1\" class=\"dataframe\">\n",
       "  <thead>\n",
       "    <tr style=\"text-align: right;\">\n",
       "      <th></th>\n",
       "      <th>Retailer</th>\n",
       "      <th>Retailer ID</th>\n",
       "      <th>Invoice Date</th>\n",
       "      <th>Region</th>\n",
       "      <th>State</th>\n",
       "      <th>City</th>\n",
       "      <th>Product</th>\n",
       "      <th>Price per Unit</th>\n",
       "      <th>Units Sold</th>\n",
       "      <th>Total Sales</th>\n",
       "      <th>Operating Profit</th>\n",
       "      <th>Operating Margin</th>\n",
       "      <th>Sales Method</th>\n",
       "      <th>Day</th>\n",
       "      <th>Month</th>\n",
       "      <th>Year</th>\n",
       "    </tr>\n",
       "  </thead>\n",
       "  <tbody>\n",
       "    <tr>\n",
       "      <th>0</th>\n",
       "      <td>Foot Locker</td>\n",
       "      <td>1185732</td>\n",
       "      <td>2020-01-01</td>\n",
       "      <td>Northeast</td>\n",
       "      <td>New York</td>\n",
       "      <td>New York</td>\n",
       "      <td>Men's Street Footwear</td>\n",
       "      <td>50.0</td>\n",
       "      <td>1200</td>\n",
       "      <td>600000.0</td>\n",
       "      <td>300000.0</td>\n",
       "      <td>0.50</td>\n",
       "      <td>In-store</td>\n",
       "      <td>Wednesday</td>\n",
       "      <td>January</td>\n",
       "      <td>2020</td>\n",
       "    </tr>\n",
       "    <tr>\n",
       "      <th>1</th>\n",
       "      <td>Foot Locker</td>\n",
       "      <td>1185732</td>\n",
       "      <td>2020-01-02</td>\n",
       "      <td>Northeast</td>\n",
       "      <td>New York</td>\n",
       "      <td>New York</td>\n",
       "      <td>Men's Athletic Footwear</td>\n",
       "      <td>50.0</td>\n",
       "      <td>1000</td>\n",
       "      <td>500000.0</td>\n",
       "      <td>150000.0</td>\n",
       "      <td>0.30</td>\n",
       "      <td>In-store</td>\n",
       "      <td>Thursday</td>\n",
       "      <td>January</td>\n",
       "      <td>2020</td>\n",
       "    </tr>\n",
       "    <tr>\n",
       "      <th>2</th>\n",
       "      <td>Foot Locker</td>\n",
       "      <td>1185732</td>\n",
       "      <td>2020-01-03</td>\n",
       "      <td>Northeast</td>\n",
       "      <td>New York</td>\n",
       "      <td>New York</td>\n",
       "      <td>Women's Street Footwear</td>\n",
       "      <td>40.0</td>\n",
       "      <td>1000</td>\n",
       "      <td>400000.0</td>\n",
       "      <td>140000.0</td>\n",
       "      <td>0.35</td>\n",
       "      <td>In-store</td>\n",
       "      <td>Friday</td>\n",
       "      <td>January</td>\n",
       "      <td>2020</td>\n",
       "    </tr>\n",
       "    <tr>\n",
       "      <th>3</th>\n",
       "      <td>Foot Locker</td>\n",
       "      <td>1185732</td>\n",
       "      <td>2020-01-04</td>\n",
       "      <td>Northeast</td>\n",
       "      <td>New York</td>\n",
       "      <td>New York</td>\n",
       "      <td>Women's Athletic Footwear</td>\n",
       "      <td>45.0</td>\n",
       "      <td>850</td>\n",
       "      <td>382500.0</td>\n",
       "      <td>133875.0</td>\n",
       "      <td>0.35</td>\n",
       "      <td>In-store</td>\n",
       "      <td>Saturday</td>\n",
       "      <td>January</td>\n",
       "      <td>2020</td>\n",
       "    </tr>\n",
       "    <tr>\n",
       "      <th>4</th>\n",
       "      <td>Foot Locker</td>\n",
       "      <td>1185732</td>\n",
       "      <td>2020-01-05</td>\n",
       "      <td>Northeast</td>\n",
       "      <td>New York</td>\n",
       "      <td>New York</td>\n",
       "      <td>Men's Apparel</td>\n",
       "      <td>60.0</td>\n",
       "      <td>900</td>\n",
       "      <td>540000.0</td>\n",
       "      <td>162000.0</td>\n",
       "      <td>0.30</td>\n",
       "      <td>In-store</td>\n",
       "      <td>Sunday</td>\n",
       "      <td>January</td>\n",
       "      <td>2020</td>\n",
       "    </tr>\n",
       "  </tbody>\n",
       "</table>\n",
       "</div>"
      ],
      "text/plain": [
       "      Retailer  Retailer ID Invoice Date     Region     State      City  \\\n",
       "0  Foot Locker      1185732   2020-01-01  Northeast  New York  New York   \n",
       "1  Foot Locker      1185732   2020-01-02  Northeast  New York  New York   \n",
       "2  Foot Locker      1185732   2020-01-03  Northeast  New York  New York   \n",
       "3  Foot Locker      1185732   2020-01-04  Northeast  New York  New York   \n",
       "4  Foot Locker      1185732   2020-01-05  Northeast  New York  New York   \n",
       "\n",
       "                     Product  Price per Unit  Units Sold  Total Sales  \\\n",
       "0      Men's Street Footwear            50.0        1200     600000.0   \n",
       "1    Men's Athletic Footwear            50.0        1000     500000.0   \n",
       "2    Women's Street Footwear            40.0        1000     400000.0   \n",
       "3  Women's Athletic Footwear            45.0         850     382500.0   \n",
       "4              Men's Apparel            60.0         900     540000.0   \n",
       "\n",
       "   Operating Profit  Operating Margin Sales Method        Day    Month  Year  \n",
       "0          300000.0              0.50     In-store  Wednesday  January  2020  \n",
       "1          150000.0              0.30     In-store   Thursday  January  2020  \n",
       "2          140000.0              0.35     In-store     Friday  January  2020  \n",
       "3          133875.0              0.35     In-store   Saturday  January  2020  \n",
       "4          162000.0              0.30     In-store     Sunday  January  2020  "
      ]
     },
     "execution_count": 15,
     "metadata": {},
     "output_type": "execute_result"
    }
   ],
   "source": [
    "df.head()"
   ]
  },
  {
   "cell_type": "markdown",
   "id": "d7b97b48",
   "metadata": {},
   "source": [
    "------------"
   ]
  },
  {
   "cell_type": "markdown",
   "id": "cf737182",
   "metadata": {},
   "source": [
    "### Now, Data is ready to answer this :\n",
    "\n",
    "Q) : What are the top months having maximum sales?\n",
    "    \n",
    "Q) : When are sales more on weekdays or weekends?\n",
    "   \n",
    "Q) : Which are the top selling products for Adidas? Which are the most profitable products?\n",
    "\n",
    "Q) : What is the correlation between various variables of the dataset?\n",
    "    \n",
    "Q) : What is the citywise profit percent?\n",
    "    \n",
    "Q) : What is the market share of each retailer?\n",
    "    \n",
    "Q) : Which are the top Retailers with respect to regionwise sales?\n",
    "    \n",
    "Q) : What is the top sales mode?"
   ]
  },
  {
   "cell_type": "markdown",
   "id": "cf022d58",
   "metadata": {},
   "source": [
    "---------------"
   ]
  },
  {
   "cell_type": "markdown",
   "id": "6416aa67",
   "metadata": {},
   "source": [
    "### What are the top months having maximum sales?"
   ]
  },
  {
   "cell_type": "code",
   "execution_count": 16,
   "id": "e8042860",
   "metadata": {},
   "outputs": [
    {
     "data": {
      "text/plain": [
       "array([2020, 2021], dtype=int64)"
      ]
     },
     "execution_count": 16,
     "metadata": {},
     "output_type": "execute_result"
    }
   ],
   "source": [
    "df[\"Year\"].unique()"
   ]
  },
  {
   "cell_type": "code",
   "execution_count": 17,
   "id": "c68ec61b",
   "metadata": {},
   "outputs": [
    {
     "name": "stdout",
     "output_type": "stream",
     "text": [
      "\n",
      "Top Month with Maximum Sales :\n"
     ]
    },
    {
     "data": {
      "text/html": [
       "<div>\n",
       "<style scoped>\n",
       "    .dataframe tbody tr th:only-of-type {\n",
       "        vertical-align: middle;\n",
       "    }\n",
       "\n",
       "    .dataframe tbody tr th {\n",
       "        vertical-align: top;\n",
       "    }\n",
       "\n",
       "    .dataframe thead th {\n",
       "        text-align: right;\n",
       "    }\n",
       "</style>\n",
       "<table border=\"1\" class=\"dataframe\">\n",
       "  <thead>\n",
       "    <tr style=\"text-align: right;\">\n",
       "      <th></th>\n",
       "      <th>Total Sales</th>\n",
       "    </tr>\n",
       "    <tr>\n",
       "      <th>Month</th>\n",
       "      <th></th>\n",
       "    </tr>\n",
       "  </thead>\n",
       "  <tbody>\n",
       "    <tr>\n",
       "      <th>July</th>\n",
       "      <td>95480694.0</td>\n",
       "    </tr>\n",
       "    <tr>\n",
       "      <th>August</th>\n",
       "      <td>92166201.0</td>\n",
       "    </tr>\n",
       "    <tr>\n",
       "      <th>December</th>\n",
       "      <td>85841957.0</td>\n",
       "    </tr>\n",
       "    <tr>\n",
       "      <th>May</th>\n",
       "      <td>80507695.0</td>\n",
       "    </tr>\n",
       "    <tr>\n",
       "      <th>September</th>\n",
       "      <td>77661459.0</td>\n",
       "    </tr>\n",
       "  </tbody>\n",
       "</table>\n",
       "</div>"
      ],
      "text/plain": [
       "           Total Sales\n",
       "Month                 \n",
       "July        95480694.0\n",
       "August      92166201.0\n",
       "December    85841957.0\n",
       "May         80507695.0\n",
       "September   77661459.0"
      ]
     },
     "execution_count": 17,
     "metadata": {},
     "output_type": "execute_result"
    }
   ],
   "source": [
    "print(\"\\nTop Month with Maximum Sales :\")\n",
    "df.groupby([\"Month\"])[[\"Total Sales\"]].sum().sort_values(\"Total Sales\", ascending=False).head()"
   ]
  },
  {
   "cell_type": "code",
   "execution_count": 18,
   "id": "5fa39ce3",
   "metadata": {},
   "outputs": [
    {
     "name": "stdout",
     "output_type": "stream",
     "text": [
      "\n",
      "Top Month with Maximum Sales for each year:\n"
     ]
    },
    {
     "data": {
      "text/html": [
       "<div>\n",
       "<style scoped>\n",
       "    .dataframe tbody tr th:only-of-type {\n",
       "        vertical-align: middle;\n",
       "    }\n",
       "\n",
       "    .dataframe tbody tr th {\n",
       "        vertical-align: top;\n",
       "    }\n",
       "\n",
       "    .dataframe thead th {\n",
       "        text-align: right;\n",
       "    }\n",
       "</style>\n",
       "<table border=\"1\" class=\"dataframe\">\n",
       "  <thead>\n",
       "    <tr style=\"text-align: right;\">\n",
       "      <th></th>\n",
       "      <th></th>\n",
       "      <th>Total Sales</th>\n",
       "    </tr>\n",
       "    <tr>\n",
       "      <th>Year</th>\n",
       "      <th>Month</th>\n",
       "      <th></th>\n",
       "    </tr>\n",
       "  </thead>\n",
       "  <tbody>\n",
       "    <tr>\n",
       "      <th rowspan=\"5\" valign=\"top\">2021</th>\n",
       "      <th>July</th>\n",
       "      <td>78334681.0</td>\n",
       "    </tr>\n",
       "    <tr>\n",
       "      <th>December</th>\n",
       "      <td>77815430.0</td>\n",
       "    </tr>\n",
       "    <tr>\n",
       "      <th>August</th>\n",
       "      <td>72288221.0</td>\n",
       "    </tr>\n",
       "    <tr>\n",
       "      <th>June</th>\n",
       "      <td>65917553.0</td>\n",
       "    </tr>\n",
       "    <tr>\n",
       "      <th>May</th>\n",
       "      <td>63589681.0</td>\n",
       "    </tr>\n",
       "    <tr>\n",
       "      <th rowspan=\"5\" valign=\"top\">2020</th>\n",
       "      <th>April</th>\n",
       "      <td>24607006.0</td>\n",
       "    </tr>\n",
       "    <tr>\n",
       "      <th>August</th>\n",
       "      <td>19877980.0</td>\n",
       "    </tr>\n",
       "    <tr>\n",
       "      <th>September</th>\n",
       "      <td>18304436.0</td>\n",
       "    </tr>\n",
       "    <tr>\n",
       "      <th>March</th>\n",
       "      <td>17660577.0</td>\n",
       "    </tr>\n",
       "    <tr>\n",
       "      <th>July</th>\n",
       "      <td>17146013.0</td>\n",
       "    </tr>\n",
       "  </tbody>\n",
       "</table>\n",
       "</div>"
      ],
      "text/plain": [
       "                Total Sales\n",
       "Year Month                 \n",
       "2021 July        78334681.0\n",
       "     December    77815430.0\n",
       "     August      72288221.0\n",
       "     June        65917553.0\n",
       "     May         63589681.0\n",
       "2020 April       24607006.0\n",
       "     August      19877980.0\n",
       "     September   18304436.0\n",
       "     March       17660577.0\n",
       "     July        17146013.0"
      ]
     },
     "execution_count": 18,
     "metadata": {},
     "output_type": "execute_result"
    }
   ],
   "source": [
    "print(\"\\nTop Month with Maximum Sales for each year:\")\n",
    "\n",
    "df.groupby([\"Year\", \"Month\"])[[\"Total Sales\"]].sum().sort_values(\"Total Sales\", ascending=False).groupby(level=0).head(5)"
   ]
  },
  {
   "cell_type": "markdown",
   "id": "e34eac18",
   "metadata": {},
   "source": [
    "### When are sales more on weekdays or weekends?"
   ]
  },
  {
   "cell_type": "code",
   "execution_count": 19,
   "id": "c7de9781",
   "metadata": {},
   "outputs": [
    {
     "data": {
      "text/plain": [
       "array(['Wednesday', 'Thursday', 'Friday', 'Saturday', 'Sunday', 'Monday',\n",
       "       'Tuesday'], dtype=object)"
      ]
     },
     "execution_count": 19,
     "metadata": {},
     "output_type": "execute_result"
    }
   ],
   "source": [
    "df['Day'].unique()"
   ]
  },
  {
   "cell_type": "code",
   "execution_count": 20,
   "id": "67ae01aa",
   "metadata": {},
   "outputs": [],
   "source": [
    "df_Weekends = df[(df['Day'] == \"Sunday\") | (df['Day'] == \"Saturday\")]\n",
    "\n",
    "df_Weekdays = df[(df['Day'] != \"Sunday\") & (df['Day'] != \"Saturday\")]"
   ]
  },
  {
   "cell_type": "code",
   "execution_count": 21,
   "id": "5093d4a7",
   "metadata": {},
   "outputs": [],
   "source": [
    "weekday_sales = df_Weekdays[\"Total Sales\"].sum()"
   ]
  },
  {
   "cell_type": "code",
   "execution_count": 22,
   "id": "64c88f13",
   "metadata": {},
   "outputs": [],
   "source": [
    "weekend_sales = df_Weekends[\"Total Sales\"].sum()"
   ]
  },
  {
   "cell_type": "code",
   "execution_count": 23,
   "id": "126cb36c",
   "metadata": {},
   "outputs": [
    {
     "name": "stdout",
     "output_type": "stream",
     "text": [
      "Weekdays Sales:  661954158.0\n",
      "Weekends Sales:  237947967.0\n",
      "\n",
      "Sales are generally higher on Weekends.\n"
     ]
    }
   ],
   "source": [
    "print('Weekdays Sales: ',weekday_sales)\n",
    "print('Weekends Sales: ',weekend_sales)\n",
    "\n",
    "if weekday_sales > weekday_sales:\n",
    "    print(\"\\nSales are generally higher on Weekdays.\")\n",
    "else:\n",
    "    print(\"\\nSales are generally higher on Weekends.\")"
   ]
  },
  {
   "cell_type": "markdown",
   "id": "3f93e320",
   "metadata": {},
   "source": [
    "### Which are the top selling products for Adidas? Which are the most profitable products?"
   ]
  },
  {
   "cell_type": "code",
   "execution_count": 24,
   "id": "489b406e",
   "metadata": {},
   "outputs": [
    {
     "name": "stdout",
     "output_type": "stream",
     "text": [
      "\n",
      "Top Selling Products: \n"
     ]
    },
    {
     "data": {
      "text/html": [
       "<div>\n",
       "<style scoped>\n",
       "    .dataframe tbody tr th:only-of-type {\n",
       "        vertical-align: middle;\n",
       "    }\n",
       "\n",
       "    .dataframe tbody tr th {\n",
       "        vertical-align: top;\n",
       "    }\n",
       "\n",
       "    .dataframe thead th {\n",
       "        text-align: right;\n",
       "    }\n",
       "</style>\n",
       "<table border=\"1\" class=\"dataframe\">\n",
       "  <thead>\n",
       "    <tr style=\"text-align: right;\">\n",
       "      <th></th>\n",
       "      <th>Total Sales</th>\n",
       "    </tr>\n",
       "    <tr>\n",
       "      <th>Product</th>\n",
       "      <th></th>\n",
       "    </tr>\n",
       "  </thead>\n",
       "  <tbody>\n",
       "    <tr>\n",
       "      <th>Men's Street Footwear</th>\n",
       "      <td>208826244.0</td>\n",
       "    </tr>\n",
       "    <tr>\n",
       "      <th>Women's Apparel</th>\n",
       "      <td>179038860.0</td>\n",
       "    </tr>\n",
       "    <tr>\n",
       "      <th>Men's Athletic Footwear</th>\n",
       "      <td>153673680.0</td>\n",
       "    </tr>\n",
       "    <tr>\n",
       "      <th>Women's Street Footwear</th>\n",
       "      <td>128002813.0</td>\n",
       "    </tr>\n",
       "    <tr>\n",
       "      <th>Men's Apparel</th>\n",
       "      <td>123728632.0</td>\n",
       "    </tr>\n",
       "    <tr>\n",
       "      <th>Women's Athletic Footwear</th>\n",
       "      <td>106631896.0</td>\n",
       "    </tr>\n",
       "  </tbody>\n",
       "</table>\n",
       "</div>"
      ],
      "text/plain": [
       "                           Total Sales\n",
       "Product                               \n",
       "Men's Street Footwear      208826244.0\n",
       "Women's Apparel            179038860.0\n",
       "Men's Athletic Footwear    153673680.0\n",
       "Women's Street Footwear    128002813.0\n",
       "Men's Apparel              123728632.0\n",
       "Women's Athletic Footwear  106631896.0"
      ]
     },
     "execution_count": 24,
     "metadata": {},
     "output_type": "execute_result"
    }
   ],
   "source": [
    "print(\"\\nTop Selling Products: \")\n",
    "\n",
    "df.groupby(['Product'])[['Total Sales']].sum().sort_values(\"Total Sales\", ascending=False)"
   ]
  },
  {
   "cell_type": "code",
   "execution_count": 25,
   "id": "2bf4e0b2",
   "metadata": {},
   "outputs": [
    {
     "name": "stdout",
     "output_type": "stream",
     "text": [
      "\n",
      "Top Profitable Products: \n"
     ]
    },
    {
     "data": {
      "text/html": [
       "<div>\n",
       "<style scoped>\n",
       "    .dataframe tbody tr th:only-of-type {\n",
       "        vertical-align: middle;\n",
       "    }\n",
       "\n",
       "    .dataframe tbody tr th {\n",
       "        vertical-align: top;\n",
       "    }\n",
       "\n",
       "    .dataframe thead th {\n",
       "        text-align: right;\n",
       "    }\n",
       "</style>\n",
       "<table border=\"1\" class=\"dataframe\">\n",
       "  <thead>\n",
       "    <tr style=\"text-align: right;\">\n",
       "      <th></th>\n",
       "      <th>Operating Profit</th>\n",
       "    </tr>\n",
       "    <tr>\n",
       "      <th>Product</th>\n",
       "      <th></th>\n",
       "    </tr>\n",
       "  </thead>\n",
       "  <tbody>\n",
       "    <tr>\n",
       "      <th>Men's Street Footwear</th>\n",
       "      <td>82802260.62</td>\n",
       "    </tr>\n",
       "    <tr>\n",
       "      <th>Women's Apparel</th>\n",
       "      <td>68650970.56</td>\n",
       "    </tr>\n",
       "    <tr>\n",
       "      <th>Men's Athletic Footwear</th>\n",
       "      <td>51846888.19</td>\n",
       "    </tr>\n",
       "    <tr>\n",
       "      <th>Women's Street Footwear</th>\n",
       "      <td>45095826.81</td>\n",
       "    </tr>\n",
       "    <tr>\n",
       "      <th>Men's Apparel</th>\n",
       "      <td>44763030.33</td>\n",
       "    </tr>\n",
       "    <tr>\n",
       "      <th>Women's Athletic Footwear</th>\n",
       "      <td>38975784.94</td>\n",
       "    </tr>\n",
       "  </tbody>\n",
       "</table>\n",
       "</div>"
      ],
      "text/plain": [
       "                           Operating Profit\n",
       "Product                                    \n",
       "Men's Street Footwear           82802260.62\n",
       "Women's Apparel                 68650970.56\n",
       "Men's Athletic Footwear         51846888.19\n",
       "Women's Street Footwear         45095826.81\n",
       "Men's Apparel                   44763030.33\n",
       "Women's Athletic Footwear       38975784.94"
      ]
     },
     "execution_count": 25,
     "metadata": {},
     "output_type": "execute_result"
    }
   ],
   "source": [
    "print(\"\\nTop Profitable Products: \")\n",
    "\n",
    "df.groupby(['Product'])[['Operating Profit']].sum().sort_values(\"Operating Profit\", ascending=False)"
   ]
  },
  {
   "cell_type": "markdown",
   "id": "3df9fda1",
   "metadata": {},
   "source": [
    "### What is the correlation between various variables of the dataset?"
   ]
  },
  {
   "cell_type": "code",
   "execution_count": 26,
   "id": "17d5b891",
   "metadata": {},
   "outputs": [
    {
     "data": {
      "text/plain": [
       "['Retailer ID',\n",
       " 'Price per Unit',\n",
       " 'Units Sold',\n",
       " 'Total Sales',\n",
       " 'Operating Profit',\n",
       " 'Operating Margin',\n",
       " 'Year']"
      ]
     },
     "execution_count": 26,
     "metadata": {},
     "output_type": "execute_result"
    }
   ],
   "source": [
    "df.select_dtypes(include='number').columns.tolist()"
   ]
  },
  {
   "cell_type": "code",
   "execution_count": 27,
   "id": "1083a373",
   "metadata": {},
   "outputs": [],
   "source": [
    "num_col = ['Price per Unit', 'Units Sold', 'Total Sales', 'Operating Profit', 'Operating Margin']"
   ]
  },
  {
   "cell_type": "code",
   "execution_count": 28,
   "id": "aaf6bebe",
   "metadata": {},
   "outputs": [
    {
     "data": {
      "text/html": [
       "<div>\n",
       "<style scoped>\n",
       "    .dataframe tbody tr th:only-of-type {\n",
       "        vertical-align: middle;\n",
       "    }\n",
       "\n",
       "    .dataframe tbody tr th {\n",
       "        vertical-align: top;\n",
       "    }\n",
       "\n",
       "    .dataframe thead th {\n",
       "        text-align: right;\n",
       "    }\n",
       "</style>\n",
       "<table border=\"1\" class=\"dataframe\">\n",
       "  <thead>\n",
       "    <tr style=\"text-align: right;\">\n",
       "      <th></th>\n",
       "      <th>Price per Unit</th>\n",
       "      <th>Units Sold</th>\n",
       "      <th>Total Sales</th>\n",
       "      <th>Operating Profit</th>\n",
       "      <th>Operating Margin</th>\n",
       "    </tr>\n",
       "  </thead>\n",
       "  <tbody>\n",
       "    <tr>\n",
       "      <th>Price per Unit</th>\n",
       "      <td>1.000000</td>\n",
       "      <td>0.265869</td>\n",
       "      <td>0.435811</td>\n",
       "      <td>0.394546</td>\n",
       "      <td>-0.137486</td>\n",
       "    </tr>\n",
       "    <tr>\n",
       "      <th>Units Sold</th>\n",
       "      <td>0.265869</td>\n",
       "      <td>1.000000</td>\n",
       "      <td>0.913431</td>\n",
       "      <td>0.892379</td>\n",
       "      <td>-0.305479</td>\n",
       "    </tr>\n",
       "    <tr>\n",
       "      <th>Total Sales</th>\n",
       "      <td>0.435811</td>\n",
       "      <td>0.913431</td>\n",
       "      <td>1.000000</td>\n",
       "      <td>0.956307</td>\n",
       "      <td>-0.364592</td>\n",
       "    </tr>\n",
       "    <tr>\n",
       "      <th>Operating Profit</th>\n",
       "      <td>0.394546</td>\n",
       "      <td>0.892379</td>\n",
       "      <td>0.956307</td>\n",
       "      <td>1.000000</td>\n",
       "      <td>-0.211920</td>\n",
       "    </tr>\n",
       "    <tr>\n",
       "      <th>Operating Margin</th>\n",
       "      <td>-0.137486</td>\n",
       "      <td>-0.305479</td>\n",
       "      <td>-0.364592</td>\n",
       "      <td>-0.211920</td>\n",
       "      <td>1.000000</td>\n",
       "    </tr>\n",
       "  </tbody>\n",
       "</table>\n",
       "</div>"
      ],
      "text/plain": [
       "                  Price per Unit  Units Sold  Total Sales  Operating Profit  \\\n",
       "Price per Unit          1.000000    0.265869     0.435811          0.394546   \n",
       "Units Sold              0.265869    1.000000     0.913431          0.892379   \n",
       "Total Sales             0.435811    0.913431     1.000000          0.956307   \n",
       "Operating Profit        0.394546    0.892379     0.956307          1.000000   \n",
       "Operating Margin       -0.137486   -0.305479    -0.364592         -0.211920   \n",
       "\n",
       "                  Operating Margin  \n",
       "Price per Unit           -0.137486  \n",
       "Units Sold               -0.305479  \n",
       "Total Sales              -0.364592  \n",
       "Operating Profit         -0.211920  \n",
       "Operating Margin          1.000000  "
      ]
     },
     "execution_count": 28,
     "metadata": {},
     "output_type": "execute_result"
    }
   ],
   "source": [
    "df[num_col].corr()"
   ]
  },
  {
   "cell_type": "code",
   "execution_count": 56,
   "id": "4353e62d",
   "metadata": {},
   "outputs": [
    {
     "data": {
      "text/plain": [
       "<Axes: >"
      ]
     },
     "execution_count": 56,
     "metadata": {},
     "output_type": "execute_result"
    },
    {
     "data": {
      "image/png": "[encoded data removed]",
      "text/plain": [
       "<Figure size 640x480 with 2 Axes>"
      ]
     },
     "metadata": {},
     "output_type": "display_data"
    }
   ],
   "source": [
    "sns.heatmap(df[num_col].corr(), annot=True, fmt='.2f')"
   ]
  },
  {
   "cell_type": "markdown",
   "id": "45318739",
   "metadata": {},
   "source": [
    "### What is the citywise profit percent?\n"
   ]
  },
  {
   "cell_type": "code",
   "execution_count": 59,
   "id": "e1f10954",
   "metadata": {},
   "outputs": [
    {
     "name": "stdout",
     "output_type": "stream",
     "text": [
      "\n",
      "Citywise Profit Percent:\n",
      "City\n",
      "Birmingham        51.88\n",
      "Knoxville         47.01\n",
      "Detroit           43.68\n",
      "Dallas            42.31\n",
      "Boise             42.13\n",
      "Omaha             41.14\n",
      "Jackson           40.85\n",
      "Charlotte         40.73\n",
      "Columbus          40.73\n",
      "St. Louis         40.35\n",
      "Burlington        40.31\n",
      "Philadelphia      40.13\n",
      "Chicago           40.01\n",
      "Salt Lake City    39.95\n",
      "Billings          39.67\n",
      "New Orleans       39.65\n",
      "Louisville        39.07\n",
      "Charleston        39.04\n",
      "Little Rock       38.89\n",
      "Houston           38.67\n",
      "Oklahoma City     38.67\n",
      "Albany            38.60\n",
      "Miami             38.51\n",
      "Indianapolis      38.24\n",
      "Newark            36.81\n",
      "Wilmington        36.79\n",
      "Denver            36.74\n",
      "Atlanta           36.29\n",
      "Milwaukee         36.25\n",
      "Minneapolis       36.19\n",
      "Providence        36.06\n",
      "Hartford          35.88\n",
      "Richmond          35.78\n",
      "Des Moines        35.77\n",
      "Baltimore         35.55\n",
      "Los Angeles       35.28\n",
      "Manchester        35.26\n",
      "Cheyenne          35.23\n",
      "Portland          35.23\n",
      "Wichita           35.20\n",
      "New York          34.92\n",
      "Fargo             34.76\n",
      "Sioux Falls       34.65\n",
      "Albuquerque       33.92\n",
      "Phoenix           33.87\n",
      "Las Vegas         33.85\n",
      "Orlando           31.64\n",
      "Anchorage         30.49\n",
      "Boston            30.28\n",
      "San Francisco     29.69\n",
      "Seattle           26.55\n",
      "Honolulu          26.25\n",
      "Name: Profit Percent, dtype: float64\n"
     ]
    }
   ],
   "source": [
    "City_profit = df.groupby('City')[['Total Sales', 'Operating Profit']].sum()\n",
    "\n",
    "# Calculate profit percent for each city\n",
    "City_profit['Profit Percent'] = round((City_profit[\"Operating Profit\"]/City_profit[\"Total Sales\"]*100),2)\n",
    "\n",
    "# Display the results\n",
    "print(\"\\nCitywise Profit Percent:\")\n",
    "print(City_profit['Profit Percent'].sort_values(ascending=False))"
   ]
  },
  {
   "cell_type": "markdown",
   "id": "15835be8",
   "metadata": {},
   "source": [
    "### What is the market share of each retailer?"
   ]
  },
  {
   "cell_type": "code",
   "execution_count": 31,
   "id": "030c01ef",
   "metadata": {},
   "outputs": [
    {
     "data": {
      "text/plain": [
       "Retailer\n",
       "Amazon            77698912.0\n",
       "Foot Locker      220094720.0\n",
       "Kohl's           102114753.0\n",
       "Sports Direct    182470997.0\n",
       "Walmart           74558410.0\n",
       "West Gear        242964333.0\n",
       "Name: Total Sales, dtype: float64"
      ]
     },
     "execution_count": 31,
     "metadata": {},
     "output_type": "execute_result"
    }
   ],
   "source": [
    "df.groupby('Retailer')['Total Sales'].sum()"
   ]
  },
  {
   "cell_type": "code",
   "execution_count": 32,
   "id": "77a96014",
   "metadata": {},
   "outputs": [
    {
     "name": "stdout",
     "output_type": "stream",
     "text": [
      "\n",
      "Market Share of Each Retailer:\n"
     ]
    },
    {
     "data": {
      "text/plain": [
       "Retailer\n",
       "Amazon            8.634151\n",
       "Foot Locker      24.457629\n",
       "Kohl's           11.347318\n",
       "Sports Direct    20.276760\n",
       "Walmart           8.285169\n",
       "West Gear        26.998973\n",
       "Name: Total Sales, dtype: float64"
      ]
     },
     "execution_count": 32,
     "metadata": {},
     "output_type": "execute_result"
    }
   ],
   "source": [
    "retailer_sales = df.groupby('Retailer')['Total Sales'].sum()\n",
    "\n",
    "total_sales = retailer_sales.sum()\n",
    "\n",
    "# Calculate market share for each retailer\n",
    "retailer_sales['Market Share'] = (retailer_sales / total_sales) * 100\n",
    "\n",
    "print(\"\\nMarket Share of Each Retailer:\")\n",
    "retailer_sales['Market Share']"
   ]
  },
  {
   "cell_type": "markdown",
   "id": "ad834b51",
   "metadata": {},
   "source": [
    "### Which are the top Retailers with respect to regionwise sales?"
   ]
  },
  {
   "cell_type": "code",
   "execution_count": 33,
   "id": "c3508949",
   "metadata": {},
   "outputs": [
    {
     "data": {
      "text/html": [
       "<div>\n",
       "<style scoped>\n",
       "    .dataframe tbody tr th:only-of-type {\n",
       "        vertical-align: middle;\n",
       "    }\n",
       "\n",
       "    .dataframe tbody tr th {\n",
       "        vertical-align: top;\n",
       "    }\n",
       "\n",
       "    .dataframe thead th {\n",
       "        text-align: right;\n",
       "    }\n",
       "</style>\n",
       "<table border=\"1\" class=\"dataframe\">\n",
       "  <thead>\n",
       "    <tr style=\"text-align: right;\">\n",
       "      <th></th>\n",
       "      <th></th>\n",
       "      <th>Total Sales</th>\n",
       "    </tr>\n",
       "    <tr>\n",
       "      <th>Region</th>\n",
       "      <th>Retailer</th>\n",
       "      <th></th>\n",
       "    </tr>\n",
       "  </thead>\n",
       "  <tbody>\n",
       "    <tr>\n",
       "      <th rowspan=\"5\" valign=\"top\">Midwest</th>\n",
       "      <th>Amazon</th>\n",
       "      <td>16835873.0</td>\n",
       "    </tr>\n",
       "    <tr>\n",
       "      <th>Foot Locker</th>\n",
       "      <td>47987394.0</td>\n",
       "    </tr>\n",
       "    <tr>\n",
       "      <th>Kohl's</th>\n",
       "      <td>22229415.0</td>\n",
       "    </tr>\n",
       "    <tr>\n",
       "      <th>Sports Direct</th>\n",
       "      <td>26207191.0</td>\n",
       "    </tr>\n",
       "    <tr>\n",
       "      <th>West Gear</th>\n",
       "      <td>22540586.0</td>\n",
       "    </tr>\n",
       "    <tr>\n",
       "      <th rowspan=\"6\" valign=\"top\">Northeast</th>\n",
       "      <th>Amazon</th>\n",
       "      <td>36262590.0</td>\n",
       "    </tr>\n",
       "    <tr>\n",
       "      <th>Foot Locker</th>\n",
       "      <td>65326474.0</td>\n",
       "    </tr>\n",
       "    <tr>\n",
       "      <th>Kohl's</th>\n",
       "      <td>14031168.0</td>\n",
       "    </tr>\n",
       "    <tr>\n",
       "      <th>Sports Direct</th>\n",
       "      <td>24698097.0</td>\n",
       "    </tr>\n",
       "    <tr>\n",
       "      <th>Walmart</th>\n",
       "      <td>13712005.0</td>\n",
       "    </tr>\n",
       "    <tr>\n",
       "      <th>West Gear</th>\n",
       "      <td>32293733.0</td>\n",
       "    </tr>\n",
       "    <tr>\n",
       "      <th rowspan=\"6\" valign=\"top\">South</th>\n",
       "      <th>Amazon</th>\n",
       "      <td>409091.0</td>\n",
       "    </tr>\n",
       "    <tr>\n",
       "      <th>Foot Locker</th>\n",
       "      <td>9307025.0</td>\n",
       "    </tr>\n",
       "    <tr>\n",
       "      <th>Kohl's</th>\n",
       "      <td>3552055.0</td>\n",
       "    </tr>\n",
       "    <tr>\n",
       "      <th>Sports Direct</th>\n",
       "      <td>65258121.0</td>\n",
       "    </tr>\n",
       "    <tr>\n",
       "      <th>Walmart</th>\n",
       "      <td>33049858.0</td>\n",
       "    </tr>\n",
       "    <tr>\n",
       "      <th>West Gear</th>\n",
       "      <td>33087031.0</td>\n",
       "    </tr>\n",
       "    <tr>\n",
       "      <th rowspan=\"5\" valign=\"top\">Southeast</th>\n",
       "      <th>Amazon</th>\n",
       "      <td>10826333.0</td>\n",
       "    </tr>\n",
       "    <tr>\n",
       "      <th>Foot Locker</th>\n",
       "      <td>59669118.0</td>\n",
       "    </tr>\n",
       "    <tr>\n",
       "      <th>Sports Direct</th>\n",
       "      <td>54178543.0</td>\n",
       "    </tr>\n",
       "    <tr>\n",
       "      <th>Walmart</th>\n",
       "      <td>21005539.0</td>\n",
       "    </tr>\n",
       "    <tr>\n",
       "      <th>West Gear</th>\n",
       "      <td>17491703.0</td>\n",
       "    </tr>\n",
       "    <tr>\n",
       "      <th rowspan=\"6\" valign=\"top\">West</th>\n",
       "      <th>Amazon</th>\n",
       "      <td>13365025.0</td>\n",
       "    </tr>\n",
       "    <tr>\n",
       "      <th>Foot Locker</th>\n",
       "      <td>37804709.0</td>\n",
       "    </tr>\n",
       "    <tr>\n",
       "      <th>Kohl's</th>\n",
       "      <td>62302115.0</td>\n",
       "    </tr>\n",
       "    <tr>\n",
       "      <th>Sports Direct</th>\n",
       "      <td>12129045.0</td>\n",
       "    </tr>\n",
       "    <tr>\n",
       "      <th>Walmart</th>\n",
       "      <td>6791008.0</td>\n",
       "    </tr>\n",
       "    <tr>\n",
       "      <th>West Gear</th>\n",
       "      <td>137551280.0</td>\n",
       "    </tr>\n",
       "  </tbody>\n",
       "</table>\n",
       "</div>"
      ],
      "text/plain": [
       "                         Total Sales\n",
       "Region    Retailer                  \n",
       "Midwest   Amazon          16835873.0\n",
       "          Foot Locker     47987394.0\n",
       "          Kohl's          22229415.0\n",
       "          Sports Direct   26207191.0\n",
       "          West Gear       22540586.0\n",
       "Northeast Amazon          36262590.0\n",
       "          Foot Locker     65326474.0\n",
       "          Kohl's          14031168.0\n",
       "          Sports Direct   24698097.0\n",
       "          Walmart         13712005.0\n",
       "          West Gear       32293733.0\n",
       "South     Amazon            409091.0\n",
       "          Foot Locker      9307025.0\n",
       "          Kohl's           3552055.0\n",
       "          Sports Direct   65258121.0\n",
       "          Walmart         33049858.0\n",
       "          West Gear       33087031.0\n",
       "Southeast Amazon          10826333.0\n",
       "          Foot Locker     59669118.0\n",
       "          Sports Direct   54178543.0\n",
       "          Walmart         21005539.0\n",
       "          West Gear       17491703.0\n",
       "West      Amazon          13365025.0\n",
       "          Foot Locker     37804709.0\n",
       "          Kohl's          62302115.0\n",
       "          Sports Direct   12129045.0\n",
       "          Walmart          6791008.0\n",
       "          West Gear      137551280.0"
      ]
     },
     "execution_count": 33,
     "metadata": {},
     "output_type": "execute_result"
    }
   ],
   "source": [
    "df.groupby([\"Region\", \"Retailer\"])[[\"Total Sales\"]].sum()"
   ]
  },
  {
   "cell_type": "code",
   "execution_count": 34,
   "id": "eceadf10",
   "metadata": {},
   "outputs": [
    {
     "data": {
      "text/html": [
       "<div>\n",
       "<style scoped>\n",
       "    .dataframe tbody tr th:only-of-type {\n",
       "        vertical-align: middle;\n",
       "    }\n",
       "\n",
       "    .dataframe tbody tr th {\n",
       "        vertical-align: top;\n",
       "    }\n",
       "\n",
       "    .dataframe thead th {\n",
       "        text-align: right;\n",
       "    }\n",
       "</style>\n",
       "<table border=\"1\" class=\"dataframe\">\n",
       "  <thead>\n",
       "    <tr style=\"text-align: right;\">\n",
       "      <th></th>\n",
       "      <th></th>\n",
       "      <th>Total Sales</th>\n",
       "    </tr>\n",
       "    <tr>\n",
       "      <th>Region</th>\n",
       "      <th>Retailer</th>\n",
       "      <th></th>\n",
       "    </tr>\n",
       "  </thead>\n",
       "  <tbody>\n",
       "    <tr>\n",
       "      <th>West</th>\n",
       "      <th>West Gear</th>\n",
       "      <td>137551280.0</td>\n",
       "    </tr>\n",
       "    <tr>\n",
       "      <th>Northeast</th>\n",
       "      <th>Foot Locker</th>\n",
       "      <td>65326474.0</td>\n",
       "    </tr>\n",
       "    <tr>\n",
       "      <th>South</th>\n",
       "      <th>Sports Direct</th>\n",
       "      <td>65258121.0</td>\n",
       "    </tr>\n",
       "    <tr>\n",
       "      <th>Southeast</th>\n",
       "      <th>Foot Locker</th>\n",
       "      <td>59669118.0</td>\n",
       "    </tr>\n",
       "    <tr>\n",
       "      <th>Midwest</th>\n",
       "      <th>Foot Locker</th>\n",
       "      <td>47987394.0</td>\n",
       "    </tr>\n",
       "  </tbody>\n",
       "</table>\n",
       "</div>"
      ],
      "text/plain": [
       "                         Total Sales\n",
       "Region    Retailer                  \n",
       "West      West Gear      137551280.0\n",
       "Northeast Foot Locker     65326474.0\n",
       "South     Sports Direct   65258121.0\n",
       "Southeast Foot Locker     59669118.0\n",
       "Midwest   Foot Locker     47987394.0"
      ]
     },
     "execution_count": 34,
     "metadata": {},
     "output_type": "execute_result"
    }
   ],
   "source": [
    "df.groupby([\"Region\", \"Retailer\"])[[\"Total Sales\"]].sum().sort_values(\"Total Sales\", ascending=False).groupby(level=0).head(1)"
   ]
  },
  {
   "cell_type": "code",
   "execution_count": 60,
   "id": "f3469861",
   "metadata": {},
   "outputs": [
    {
     "data": {
      "text/html": [
       "<div>\n",
       "<style scoped>\n",
       "    .dataframe tbody tr th:only-of-type {\n",
       "        vertical-align: middle;\n",
       "    }\n",
       "\n",
       "    .dataframe tbody tr th {\n",
       "        vertical-align: top;\n",
       "    }\n",
       "\n",
       "    .dataframe thead th {\n",
       "        text-align: right;\n",
       "    }\n",
       "</style>\n",
       "<table border=\"1\" class=\"dataframe\">\n",
       "  <thead>\n",
       "    <tr style=\"text-align: right;\">\n",
       "      <th></th>\n",
       "      <th>Region</th>\n",
       "      <th>Retailer</th>\n",
       "      <th>Total Sales</th>\n",
       "    </tr>\n",
       "  </thead>\n",
       "  <tbody>\n",
       "    <tr>\n",
       "      <th>1</th>\n",
       "      <td>Midwest</td>\n",
       "      <td>Foot Locker</td>\n",
       "      <td>47987394.0</td>\n",
       "    </tr>\n",
       "    <tr>\n",
       "      <th>6</th>\n",
       "      <td>Northeast</td>\n",
       "      <td>Foot Locker</td>\n",
       "      <td>65326474.0</td>\n",
       "    </tr>\n",
       "    <tr>\n",
       "      <th>14</th>\n",
       "      <td>South</td>\n",
       "      <td>Sports Direct</td>\n",
       "      <td>65258121.0</td>\n",
       "    </tr>\n",
       "    <tr>\n",
       "      <th>18</th>\n",
       "      <td>Southeast</td>\n",
       "      <td>Foot Locker</td>\n",
       "      <td>59669118.0</td>\n",
       "    </tr>\n",
       "    <tr>\n",
       "      <th>27</th>\n",
       "      <td>West</td>\n",
       "      <td>West Gear</td>\n",
       "      <td>137551280.0</td>\n",
       "    </tr>\n",
       "  </tbody>\n",
       "</table>\n",
       "</div>"
      ],
      "text/plain": [
       "       Region       Retailer  Total Sales\n",
       "1     Midwest    Foot Locker   47987394.0\n",
       "6   Northeast    Foot Locker   65326474.0\n",
       "14      South  Sports Direct   65258121.0\n",
       "18  Southeast    Foot Locker   59669118.0\n",
       "27       West      West Gear  137551280.0"
      ]
     },
     "execution_count": 60,
     "metadata": {},
     "output_type": "execute_result"
    }
   ],
   "source": [
    "region_retailer_sales = df.groupby(['Region', 'Retailer'])['Total Sales'].sum()\n",
    "\n",
    "# Reset index so it can work like a DataFrame\n",
    "region_retailer_sales = region_retailer_sales.reset_index()\n",
    "\n",
    "# Now find the top retailer in each region\n",
    "top_retailers = region_retailer_sales.loc[region_retailer_sales.groupby('Region')['Total Sales'].idxmax()]\n",
    "\n",
    "top_retailers"
   ]
  },
  {
   "cell_type": "code",
   "execution_count": 35,
   "id": "89e012e9",
   "metadata": {},
   "outputs": [
    {
     "data": {
      "text/html": [
       "<div>\n",
       "<style scoped>\n",
       "    .dataframe tbody tr th:only-of-type {\n",
       "        vertical-align: middle;\n",
       "    }\n",
       "\n",
       "    .dataframe tbody tr th {\n",
       "        vertical-align: top;\n",
       "    }\n",
       "\n",
       "    .dataframe thead th {\n",
       "        text-align: right;\n",
       "    }\n",
       "</style>\n",
       "<table border=\"1\" class=\"dataframe\">\n",
       "  <thead>\n",
       "    <tr style=\"text-align: right;\">\n",
       "      <th></th>\n",
       "      <th>Total Sales</th>\n",
       "    </tr>\n",
       "    <tr>\n",
       "      <th>Region</th>\n",
       "      <th></th>\n",
       "    </tr>\n",
       "  </thead>\n",
       "  <tbody>\n",
       "    <tr>\n",
       "      <th>Midwest</th>\n",
       "      <td>(Midwest, Foot Locker)</td>\n",
       "    </tr>\n",
       "    <tr>\n",
       "      <th>Northeast</th>\n",
       "      <td>(Northeast, Foot Locker)</td>\n",
       "    </tr>\n",
       "    <tr>\n",
       "      <th>South</th>\n",
       "      <td>(South, Sports Direct)</td>\n",
       "    </tr>\n",
       "    <tr>\n",
       "      <th>Southeast</th>\n",
       "      <td>(Southeast, Foot Locker)</td>\n",
       "    </tr>\n",
       "    <tr>\n",
       "      <th>West</th>\n",
       "      <td>(West, West Gear)</td>\n",
       "    </tr>\n",
       "  </tbody>\n",
       "</table>\n",
       "</div>"
      ],
      "text/plain": [
       "                        Total Sales\n",
       "Region                             \n",
       "Midwest      (Midwest, Foot Locker)\n",
       "Northeast  (Northeast, Foot Locker)\n",
       "South        (South, Sports Direct)\n",
       "Southeast  (Southeast, Foot Locker)\n",
       "West              (West, West Gear)"
      ]
     },
     "execution_count": 35,
     "metadata": {},
     "output_type": "execute_result"
    }
   ],
   "source": [
    "df.groupby([\"Region\", \"Retailer\"])[[\"Total Sales\"]].sum().groupby('Region').idxmax()"
   ]
  },
  {
   "cell_type": "markdown",
   "id": "83a398f1",
   "metadata": {},
   "source": [
    "### What is the top sales mode?"
   ]
  },
  {
   "cell_type": "code",
   "execution_count": 62,
   "id": "6ec918b5",
   "metadata": {},
   "outputs": [
    {
     "data": {
      "text/html": [
       "<div>\n",
       "<style scoped>\n",
       "    .dataframe tbody tr th:only-of-type {\n",
       "        vertical-align: middle;\n",
       "    }\n",
       "\n",
       "    .dataframe tbody tr th {\n",
       "        vertical-align: top;\n",
       "    }\n",
       "\n",
       "    .dataframe thead th {\n",
       "        text-align: right;\n",
       "    }\n",
       "</style>\n",
       "<table border=\"1\" class=\"dataframe\">\n",
       "  <thead>\n",
       "    <tr style=\"text-align: right;\">\n",
       "      <th></th>\n",
       "      <th>Total Sales</th>\n",
       "    </tr>\n",
       "    <tr>\n",
       "      <th>Sales Method</th>\n",
       "      <th></th>\n",
       "    </tr>\n",
       "  </thead>\n",
       "  <tbody>\n",
       "    <tr>\n",
       "      <th>In-store</th>\n",
       "      <td>356643750.0</td>\n",
       "    </tr>\n",
       "    <tr>\n",
       "      <th>Online</th>\n",
       "      <td>247672882.0</td>\n",
       "    </tr>\n",
       "    <tr>\n",
       "      <th>Outlet</th>\n",
       "      <td>295585493.0</td>\n",
       "    </tr>\n",
       "  </tbody>\n",
       "</table>\n",
       "</div>"
      ],
      "text/plain": [
       "              Total Sales\n",
       "Sales Method             \n",
       "In-store      356643750.0\n",
       "Online        247672882.0\n",
       "Outlet        295585493.0"
      ]
     },
     "execution_count": 62,
     "metadata": {},
     "output_type": "execute_result"
    }
   ],
   "source": [
    "df.groupby('Sales Method')[['Total Sales']].sum()"
   ]
  },
  {
   "cell_type": "code",
   "execution_count": 44,
   "id": "cdabbaec",
   "metadata": {},
   "outputs": [
    {
     "name": "stdout",
     "output_type": "stream",
     "text": [
      "\n",
      "Top Sales Mode:\n",
      "In-store\n"
     ]
    }
   ],
   "source": [
    "sales_method_sales = df.groupby('Sales Method')['Total Sales'].sum()\n",
    "\n",
    "# Get the sales method with the highest sales\n",
    "top_sales_method = sales_method_sales.idxmax()\n",
    "\n",
    "# Display the result\n",
    "print(\"\\nTop Sales Mode:\")\n",
    "print(top_sales_method)"
   ]
  },
  {
   "cell_type": "code",
   "execution_count": 55,
   "id": "d270a0b4",
   "metadata": {},
   "outputs": [
    {
     "data": {
      "text/html": [
       "<div>\n",
       "<style scoped>\n",
       "    .dataframe tbody tr th:only-of-type {\n",
       "        vertical-align: middle;\n",
       "    }\n",
       "\n",
       "    .dataframe tbody tr th {\n",
       "        vertical-align: top;\n",
       "    }\n",
       "\n",
       "    .dataframe thead th {\n",
       "        text-align: right;\n",
       "    }\n",
       "</style>\n",
       "<table border=\"1\" class=\"dataframe\">\n",
       "  <thead>\n",
       "    <tr style=\"text-align: right;\">\n",
       "      <th></th>\n",
       "      <th>Month</th>\n",
       "      <th>Total Sales</th>\n",
       "    </tr>\n",
       "  </thead>\n",
       "  <tbody>\n",
       "    <tr>\n",
       "      <th>0</th>\n",
       "      <td>April</td>\n",
       "      <td>72339970.0</td>\n",
       "    </tr>\n",
       "    <tr>\n",
       "      <th>1</th>\n",
       "      <td>August</td>\n",
       "      <td>92166201.0</td>\n",
       "    </tr>\n",
       "    <tr>\n",
       "      <th>2</th>\n",
       "      <td>December</td>\n",
       "      <td>85841957.0</td>\n",
       "    </tr>\n",
       "    <tr>\n",
       "      <th>3</th>\n",
       "      <td>February</td>\n",
       "      <td>61100153.0</td>\n",
       "    </tr>\n",
       "    <tr>\n",
       "      <th>4</th>\n",
       "      <td>January</td>\n",
       "      <td>71479142.0</td>\n",
       "    </tr>\n",
       "    <tr>\n",
       "      <th>5</th>\n",
       "      <td>July</td>\n",
       "      <td>95480694.0</td>\n",
       "    </tr>\n",
       "    <tr>\n",
       "      <th>6</th>\n",
       "      <td>June</td>\n",
       "      <td>74747372.0</td>\n",
       "    </tr>\n",
       "    <tr>\n",
       "      <th>7</th>\n",
       "      <td>March</td>\n",
       "      <td>56809109.0</td>\n",
       "    </tr>\n",
       "    <tr>\n",
       "      <th>8</th>\n",
       "      <td>May</td>\n",
       "      <td>80507695.0</td>\n",
       "    </tr>\n",
       "    <tr>\n",
       "      <th>9</th>\n",
       "      <td>November</td>\n",
       "      <td>67857340.0</td>\n",
       "    </tr>\n",
       "    <tr>\n",
       "      <th>10</th>\n",
       "      <td>October</td>\n",
       "      <td>63911033.0</td>\n",
       "    </tr>\n",
       "    <tr>\n",
       "      <th>11</th>\n",
       "      <td>September</td>\n",
       "      <td>77661459.0</td>\n",
       "    </tr>\n",
       "  </tbody>\n",
       "</table>\n",
       "</div>"
      ],
      "text/plain": [
       "        Month  Total Sales\n",
       "0       April   72339970.0\n",
       "1      August   92166201.0\n",
       "2    December   85841957.0\n",
       "3    February   61100153.0\n",
       "4     January   71479142.0\n",
       "5        July   95480694.0\n",
       "6        June   74747372.0\n",
       "7       March   56809109.0\n",
       "8         May   80507695.0\n",
       "9    November   67857340.0\n",
       "10    October   63911033.0\n",
       "11  September   77661459.0"
      ]
     },
     "execution_count": 55,
     "metadata": {},
     "output_type": "execute_result"
    }
   ],
   "source": [
    "df.groupby('Month')[['Total Sales']].sum().reset_index()"
   ]
  },
  {
   "cell_type": "code",
   "execution_count": null,
   "id": "5cda0d72",
   "metadata": {},
   "outputs": [],
   "source": []
  }
 ],
 "metadata": {
  "kernelspec": {
   "display_name": "Python 3 (ipykernel)",
   "language": "python",
   "name": "python3"
  },
  "language_info": {
   "codemirror_mode": {
    "name": "ipython",
    "version": 3
   },
   "file_extension": ".py",
   "mimetype": "text/x-python",
   "name": "python",
   "nbconvert_exporter": "python",
   "pygments_lexer": "ipython3",
   "version": "3.11.4"
  }
 },
 "nbformat": 4,
 "nbformat_minor": 5
}
